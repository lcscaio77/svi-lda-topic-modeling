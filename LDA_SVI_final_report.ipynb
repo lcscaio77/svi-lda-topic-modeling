{
 "cells": [
  {
   "cell_type": "markdown",
   "id": "41b859a4",
   "metadata": {},
   "source": [
    "***"
   ]
  },
  {
   "cell_type": "markdown",
   "id": "e3dc06b5",
   "metadata": {},
   "source": [
    "# __Inférence variationnelle stochastique pour LDA__"
   ]
  },
  {
   "cell_type": "code",
   "execution_count": 114,
   "id": "4d1cb23f",
   "metadata": {},
   "outputs": [],
   "source": [
    "import json\n",
    "import time\n",
    "\n",
    "import numpy as np\n",
    "import pandas as pd\n",
    "import plotly.express as px\n",
    "from wordcloud import WordCloud\n",
    "from scipy.special import digamma\n",
    "\n",
    "from src import vectorize_corpus"
   ]
  },
  {
   "cell_type": "code",
   "execution_count": 54,
   "id": "c7b483d0",
   "metadata": {},
   "outputs": [],
   "source": [
    "with open(\"data/wikipedia_corpus.json\", \"r\", encoding=\"utf-8\") as f:\n",
    "    wiki_articles = json.load(f)\n",
    "\n",
    "documents = [article[\"content\"] for article in wiki_articles.values()] # Extract the content of the articles\n",
    "titles = [article[\"title\"] for article in wiki_articles.values()] # Extracrt the title title of the articles\n",
    "corpus, vocab = vectorize_corpus(documents) # Vectorized documents\n",
    "\n",
    "V = len(vocab) # Vocabulary size"
   ]
  },
  {
   "cell_type": "code",
   "execution_count": 55,
   "id": "116cded9",
   "metadata": {},
   "outputs": [],
   "source": [
    "def log_dirichlet_expectation(alpha):\n",
    "    if len(alpha.shape) == 1:\n",
    "        return digamma(alpha) - digamma(np.sum(alpha))\n",
    "    return digamma(alpha) - digamma(np.sum(alpha, axis=1))[:, np.newaxis]"
   ]
  },
  {
   "cell_type": "code",
   "execution_count": 56,
   "id": "480d94df",
   "metadata": {},
   "outputs": [],
   "source": [
    "def SVI_for_LDA(documents, V, K=10, alpha=1.0, eta=1.0, max_iter=100, tau=64, kappa=0.7, e_step_iter=20, verbose=True):\n",
    "    D = len(documents)\n",
    "    lambd = np.random.gamma(100., 1./100., size=(K, V))\n",
    "\n",
    "    doc_topic_distrib = {}\n",
    "\n",
    "    for t in range(max_iter):\n",
    "        start_time = time.time()\n",
    "\n",
    "        doc_id = np.random.randint(0, D)\n",
    "        doc = documents[doc_id]\n",
    "        N = len(doc)\n",
    "\n",
    "        gamma = np.ones(K)\n",
    "        phi = np.full(shape=(N, K), fill_value=1/K)\n",
    "\n",
    "        E_logbeta = log_dirichlet_expectation(lambd)\n",
    "        exp_E_logbeta = np.exp(E_logbeta)\n",
    "\n",
    "        for j in range(e_step_iter):\n",
    "            E_logtheta = log_dirichlet_expectation(gamma)\n",
    "            exp_E_logtheta = np.exp(E_logtheta)\n",
    "\n",
    "            for n, w in enumerate(doc):\n",
    "                phi[n, :] = exp_E_logtheta * exp_E_logbeta[:, w]\n",
    "                phi[n, :] /= np.sum(phi[n, :])\n",
    "            \n",
    "            gamma = alpha + np.sum(phi, axis=0)\n",
    "\n",
    "            theta = gamma / np.sum(gamma)\n",
    "            doc_topic_distrib[titles[doc_id]] = theta\n",
    "\n",
    "        topic_word_contrib = np.zeros(shape=(K, V))\n",
    "        for n, w in enumerate(doc):\n",
    "            topic_word_contrib[:, w] += phi[n, :]\n",
    "\n",
    "        lambd_hat = eta + D*topic_word_contrib\n",
    "\n",
    "        rho = (t + tau) ** -kappa\n",
    "        lambd = (1 - rho) * lambd + rho * lambd_hat\n",
    "\n",
    "        iteration_time = time.time() - start_time\n",
    "        if verbose:\n",
    "            print(f\"\\t - Iteration {t} done in {iteration_time:.2f}s.\")\n",
    "\n",
    "    return lambd, doc_topic_distrib"
   ]
  },
  {
   "cell_type": "code",
   "execution_count": 57,
   "id": "118bc1f5",
   "metadata": {},
   "outputs": [
    {
     "name": "stdout",
     "output_type": "stream",
     "text": [
      "\t - Iteration 0 done in 0.66s.\n",
      "\t - Iteration 1 done in 0.46s.\n",
      "\t - Iteration 2 done in 0.24s.\n",
      "\t - Iteration 3 done in 0.18s.\n",
      "\t - Iteration 4 done in 0.03s.\n",
      "\t - Iteration 5 done in 1.39s.\n",
      "\t - Iteration 6 done in 1.76s.\n",
      "\t - Iteration 7 done in 0.04s.\n",
      "\t - Iteration 8 done in 1.10s.\n",
      "\t - Iteration 9 done in 0.76s.\n",
      "\t - Iteration 10 done in 0.19s.\n",
      "\t - Iteration 11 done in 0.22s.\n",
      "\t - Iteration 12 done in 0.13s.\n",
      "\t - Iteration 13 done in 0.25s.\n",
      "\t - Iteration 14 done in 0.03s.\n",
      "\t - Iteration 15 done in 0.67s.\n",
      "\t - Iteration 16 done in 0.09s.\n",
      "\t - Iteration 17 done in 0.95s.\n",
      "\t - Iteration 18 done in 0.74s.\n",
      "\t - Iteration 19 done in 0.50s.\n",
      "\t - Iteration 20 done in 0.23s.\n",
      "\t - Iteration 21 done in 0.06s.\n",
      "\t - Iteration 22 done in 0.03s.\n",
      "\t - Iteration 23 done in 0.45s.\n",
      "\t - Iteration 24 done in 0.51s.\n",
      "\t - Iteration 25 done in 0.13s.\n",
      "\t - Iteration 26 done in 0.06s.\n",
      "\t - Iteration 27 done in 0.02s.\n",
      "\t - Iteration 28 done in 0.61s.\n",
      "\t - Iteration 29 done in 1.59s.\n",
      "\t - Iteration 30 done in 0.80s.\n",
      "\t - Iteration 31 done in 0.26s.\n",
      "\t - Iteration 32 done in 0.23s.\n",
      "\t - Iteration 33 done in 0.30s.\n",
      "\t - Iteration 34 done in 0.54s.\n",
      "\t - Iteration 35 done in 0.59s.\n",
      "\t - Iteration 36 done in 0.27s.\n",
      "\t - Iteration 37 done in 0.52s.\n",
      "\t - Iteration 38 done in 1.57s.\n",
      "\t - Iteration 39 done in 0.08s.\n",
      "\t - Iteration 40 done in 0.20s.\n",
      "\t - Iteration 41 done in 0.58s.\n",
      "\t - Iteration 42 done in 1.44s.\n",
      "\t - Iteration 43 done in 0.44s.\n",
      "\t - Iteration 44 done in 1.94s.\n",
      "\t - Iteration 45 done in 0.05s.\n",
      "\t - Iteration 46 done in 0.52s.\n",
      "\t - Iteration 47 done in 0.14s.\n",
      "\t - Iteration 48 done in 0.29s.\n",
      "\t - Iteration 49 done in 0.60s.\n",
      "\t - Iteration 50 done in 0.03s.\n",
      "\t - Iteration 51 done in 0.26s.\n",
      "\t - Iteration 52 done in 0.84s.\n",
      "\t - Iteration 53 done in 0.14s.\n",
      "\t - Iteration 54 done in 0.02s.\n",
      "\t - Iteration 55 done in 1.08s.\n",
      "\t - Iteration 56 done in 0.34s.\n",
      "\t - Iteration 57 done in 0.45s.\n",
      "\t - Iteration 58 done in 0.02s.\n",
      "\t - Iteration 59 done in 2.14s.\n",
      "\t - Iteration 60 done in 0.10s.\n",
      "\t - Iteration 61 done in 1.81s.\n",
      "\t - Iteration 62 done in 1.27s.\n",
      "\t - Iteration 63 done in 3.07s.\n",
      "\t - Iteration 64 done in 0.19s.\n",
      "\t - Iteration 65 done in 0.44s.\n",
      "\t - Iteration 66 done in 0.09s.\n",
      "\t - Iteration 67 done in 0.09s.\n",
      "\t - Iteration 68 done in 0.25s.\n",
      "\t - Iteration 69 done in 0.43s.\n",
      "\t - Iteration 70 done in 0.10s.\n",
      "\t - Iteration 71 done in 0.29s.\n",
      "\t - Iteration 72 done in 0.24s.\n",
      "\t - Iteration 73 done in 0.09s.\n",
      "\t - Iteration 74 done in 0.81s.\n",
      "\t - Iteration 75 done in 0.08s.\n",
      "\t - Iteration 76 done in 1.09s.\n",
      "\t - Iteration 77 done in 0.73s.\n",
      "\t - Iteration 78 done in 0.05s.\n",
      "\t - Iteration 79 done in 0.13s.\n",
      "\t - Iteration 80 done in 0.84s.\n",
      "\t - Iteration 81 done in 0.70s.\n",
      "\t - Iteration 82 done in 0.15s.\n",
      "\t - Iteration 83 done in 0.02s.\n",
      "\t - Iteration 84 done in 1.39s.\n",
      "\t - Iteration 85 done in 0.15s.\n",
      "\t - Iteration 86 done in 0.87s.\n",
      "\t - Iteration 87 done in 0.14s.\n",
      "\t - Iteration 88 done in 0.14s.\n",
      "\t - Iteration 89 done in 0.46s.\n",
      "\t - Iteration 90 done in 0.30s.\n",
      "\t - Iteration 91 done in 2.10s.\n",
      "\t - Iteration 92 done in 0.08s.\n",
      "\t - Iteration 93 done in 0.25s.\n",
      "\t - Iteration 94 done in 1.10s.\n",
      "\t - Iteration 95 done in 0.61s.\n",
      "\t - Iteration 96 done in 1.63s.\n",
      "\t - Iteration 97 done in 0.09s.\n",
      "\t - Iteration 98 done in 0.95s.\n",
      "\t - Iteration 99 done in 0.01s.\n",
      "\t - Iteration 100 done in 0.11s.\n",
      "\t - Iteration 101 done in 0.18s.\n",
      "\t - Iteration 102 done in 0.34s.\n",
      "\t - Iteration 103 done in 0.08s.\n",
      "\t - Iteration 104 done in 0.55s.\n",
      "\t - Iteration 105 done in 0.06s.\n",
      "\t - Iteration 106 done in 1.77s.\n",
      "\t - Iteration 107 done in 0.10s.\n",
      "\t - Iteration 108 done in 1.02s.\n",
      "\t - Iteration 109 done in 0.90s.\n",
      "\t - Iteration 110 done in 0.32s.\n",
      "\t - Iteration 111 done in 0.32s.\n",
      "\t - Iteration 112 done in 0.56s.\n",
      "\t - Iteration 113 done in 0.04s.\n",
      "\t - Iteration 114 done in 1.18s.\n",
      "\t - Iteration 115 done in 1.53s.\n",
      "\t - Iteration 116 done in 0.01s.\n",
      "\t - Iteration 117 done in 0.22s.\n",
      "\t - Iteration 118 done in 1.06s.\n",
      "\t - Iteration 119 done in 0.02s.\n",
      "\t - Iteration 120 done in 0.25s.\n",
      "\t - Iteration 121 done in 0.61s.\n",
      "\t - Iteration 122 done in 0.57s.\n",
      "\t - Iteration 123 done in 1.23s.\n",
      "\t - Iteration 124 done in 0.37s.\n",
      "\t - Iteration 125 done in 0.04s.\n",
      "\t - Iteration 126 done in 0.14s.\n",
      "\t - Iteration 127 done in 0.46s.\n",
      "\t - Iteration 128 done in 0.76s.\n",
      "\t - Iteration 129 done in 0.05s.\n",
      "\t - Iteration 130 done in 1.10s.\n",
      "\t - Iteration 131 done in 0.90s.\n",
      "\t - Iteration 132 done in 0.84s.\n",
      "\t - Iteration 133 done in 1.11s.\n",
      "\t - Iteration 134 done in 0.50s.\n",
      "\t - Iteration 135 done in 0.29s.\n",
      "\t - Iteration 136 done in 0.07s.\n",
      "\t - Iteration 137 done in 0.52s.\n",
      "\t - Iteration 138 done in 0.09s.\n",
      "\t - Iteration 139 done in 1.58s.\n",
      "\t - Iteration 140 done in 0.13s.\n",
      "\t - Iteration 141 done in 0.05s.\n",
      "\t - Iteration 142 done in 1.88s.\n",
      "\t - Iteration 143 done in 0.35s.\n",
      "\t - Iteration 144 done in 0.22s.\n",
      "\t - Iteration 145 done in 1.28s.\n",
      "\t - Iteration 146 done in 0.23s.\n",
      "\t - Iteration 147 done in 0.11s.\n",
      "\t - Iteration 148 done in 0.94s.\n",
      "\t - Iteration 149 done in 0.33s.\n",
      "\t - Iteration 150 done in 0.15s.\n",
      "\t - Iteration 151 done in 0.07s.\n",
      "\t - Iteration 152 done in 0.57s.\n",
      "\t - Iteration 153 done in 0.89s.\n",
      "\t - Iteration 154 done in 0.94s.\n",
      "\t - Iteration 155 done in 0.09s.\n",
      "\t - Iteration 156 done in 0.88s.\n",
      "\t - Iteration 157 done in 0.19s.\n",
      "\t - Iteration 158 done in 0.31s.\n",
      "\t - Iteration 159 done in 0.84s.\n",
      "\t - Iteration 160 done in 0.41s.\n",
      "\t - Iteration 161 done in 0.99s.\n",
      "\t - Iteration 162 done in 0.27s.\n",
      "\t - Iteration 163 done in 0.59s.\n",
      "\t - Iteration 164 done in 0.57s.\n",
      "\t - Iteration 165 done in 0.06s.\n",
      "\t - Iteration 166 done in 0.07s.\n",
      "\t - Iteration 167 done in 0.83s.\n",
      "\t - Iteration 168 done in 0.76s.\n",
      "\t - Iteration 169 done in 1.80s.\n",
      "\t - Iteration 170 done in 0.67s.\n",
      "\t - Iteration 171 done in 1.21s.\n",
      "\t - Iteration 172 done in 0.17s.\n",
      "\t - Iteration 173 done in 0.51s.\n",
      "\t - Iteration 174 done in 0.03s.\n",
      "\t - Iteration 175 done in 0.38s.\n",
      "\t - Iteration 176 done in 0.21s.\n",
      "\t - Iteration 177 done in 0.01s.\n",
      "\t - Iteration 178 done in 0.67s.\n",
      "\t - Iteration 179 done in 0.06s.\n",
      "\t - Iteration 180 done in 0.64s.\n",
      "\t - Iteration 181 done in 1.24s.\n",
      "\t - Iteration 182 done in 0.09s.\n",
      "\t - Iteration 183 done in 0.77s.\n",
      "\t - Iteration 184 done in 0.92s.\n",
      "\t - Iteration 185 done in 0.02s.\n",
      "\t - Iteration 186 done in 0.05s.\n",
      "\t - Iteration 187 done in 1.30s.\n",
      "\t - Iteration 188 done in 1.20s.\n",
      "\t - Iteration 189 done in 0.50s.\n",
      "\t - Iteration 190 done in 0.08s.\n",
      "\t - Iteration 191 done in 1.27s.\n",
      "\t - Iteration 192 done in 0.16s.\n",
      "\t - Iteration 193 done in 0.26s.\n",
      "\t - Iteration 194 done in 0.06s.\n",
      "\t - Iteration 195 done in 3.20s.\n",
      "\t - Iteration 196 done in 0.42s.\n",
      "\t - Iteration 197 done in 0.15s.\n",
      "\t - Iteration 198 done in 0.08s.\n",
      "\t - Iteration 199 done in 0.66s.\n",
      "\t - Iteration 200 done in 0.43s.\n",
      "\t - Iteration 201 done in 1.75s.\n",
      "\t - Iteration 202 done in 0.30s.\n",
      "\t - Iteration 203 done in 0.07s.\n",
      "\t - Iteration 204 done in 1.34s.\n",
      "\t - Iteration 205 done in 0.71s.\n",
      "\t - Iteration 206 done in 0.04s.\n",
      "\t - Iteration 207 done in 0.26s.\n",
      "\t - Iteration 208 done in 0.65s.\n",
      "\t - Iteration 209 done in 0.45s.\n",
      "\t - Iteration 210 done in 0.20s.\n",
      "\t - Iteration 211 done in 0.08s.\n",
      "\t - Iteration 212 done in 0.22s.\n",
      "\t - Iteration 213 done in 0.03s.\n",
      "\t - Iteration 214 done in 0.47s.\n",
      "\t - Iteration 215 done in 0.52s.\n",
      "\t - Iteration 216 done in 0.02s.\n",
      "\t - Iteration 217 done in 0.21s.\n",
      "\t - Iteration 218 done in 0.25s.\n",
      "\t - Iteration 219 done in 0.46s.\n",
      "\t - Iteration 220 done in 0.15s.\n",
      "\t - Iteration 221 done in 0.35s.\n",
      "\t - Iteration 222 done in 1.58s.\n",
      "\t - Iteration 223 done in 0.06s.\n",
      "\t - Iteration 224 done in 1.30s.\n",
      "\t - Iteration 225 done in 0.44s.\n",
      "\t - Iteration 226 done in 0.11s.\n",
      "\t - Iteration 227 done in 0.06s.\n",
      "\t - Iteration 228 done in 0.06s.\n",
      "\t - Iteration 229 done in 0.73s.\n",
      "\t - Iteration 230 done in 0.02s.\n",
      "\t - Iteration 231 done in 2.10s.\n",
      "\t - Iteration 232 done in 0.08s.\n",
      "\t - Iteration 233 done in 0.42s.\n",
      "\t - Iteration 234 done in 0.31s.\n",
      "\t - Iteration 235 done in 0.04s.\n",
      "\t - Iteration 236 done in 0.11s.\n",
      "\t - Iteration 237 done in 1.28s.\n",
      "\t - Iteration 238 done in 0.10s.\n",
      "\t - Iteration 239 done in 1.68s.\n",
      "\t - Iteration 240 done in 1.93s.\n",
      "\t - Iteration 241 done in 0.12s.\n",
      "\t - Iteration 242 done in 1.48s.\n",
      "\t - Iteration 243 done in 0.06s.\n",
      "\t - Iteration 244 done in 1.15s.\n",
      "\t - Iteration 245 done in 0.02s.\n",
      "\t - Iteration 246 done in 0.97s.\n",
      "\t - Iteration 247 done in 0.21s.\n",
      "\t - Iteration 248 done in 0.75s.\n",
      "\t - Iteration 249 done in 0.08s.\n",
      "\t - Iteration 250 done in 0.62s.\n",
      "\t - Iteration 251 done in 0.04s.\n",
      "\t - Iteration 252 done in 0.55s.\n",
      "\t - Iteration 253 done in 0.22s.\n",
      "\t - Iteration 254 done in 0.07s.\n",
      "\t - Iteration 255 done in 0.07s.\n",
      "\t - Iteration 256 done in 0.89s.\n",
      "\t - Iteration 257 done in 0.38s.\n",
      "\t - Iteration 258 done in 0.87s.\n",
      "\t - Iteration 259 done in 0.86s.\n",
      "\t - Iteration 260 done in 0.39s.\n",
      "\t - Iteration 261 done in 0.48s.\n",
      "\t - Iteration 262 done in 0.89s.\n",
      "\t - Iteration 263 done in 1.32s.\n",
      "\t - Iteration 264 done in 1.70s.\n",
      "\t - Iteration 265 done in 0.94s.\n",
      "\t - Iteration 266 done in 0.39s.\n",
      "\t - Iteration 267 done in 0.10s.\n",
      "\t - Iteration 268 done in 0.05s.\n",
      "\t - Iteration 269 done in 0.38s.\n",
      "\t - Iteration 270 done in 1.94s.\n",
      "\t - Iteration 271 done in 0.02s.\n",
      "\t - Iteration 272 done in 0.31s.\n",
      "\t - Iteration 273 done in 0.04s.\n",
      "\t - Iteration 274 done in 0.29s.\n",
      "\t - Iteration 275 done in 0.08s.\n",
      "\t - Iteration 276 done in 0.50s.\n",
      "\t - Iteration 277 done in 0.69s.\n",
      "\t - Iteration 278 done in 0.06s.\n",
      "\t - Iteration 279 done in 0.73s.\n",
      "\t - Iteration 280 done in 0.86s.\n",
      "\t - Iteration 281 done in 0.05s.\n",
      "\t - Iteration 282 done in 0.29s.\n",
      "\t - Iteration 283 done in 0.19s.\n",
      "\t - Iteration 284 done in 0.06s.\n",
      "\t - Iteration 285 done in 0.64s.\n",
      "\t - Iteration 286 done in 0.67s.\n",
      "\t - Iteration 287 done in 0.06s.\n",
      "\t - Iteration 288 done in 0.02s.\n",
      "\t - Iteration 289 done in 0.58s.\n",
      "\t - Iteration 290 done in 2.30s.\n",
      "\t - Iteration 291 done in 0.16s.\n",
      "\t - Iteration 292 done in 0.35s.\n",
      "\t - Iteration 293 done in 0.14s.\n",
      "\t - Iteration 294 done in 0.06s.\n",
      "\t - Iteration 295 done in 0.44s.\n",
      "\t - Iteration 296 done in 0.67s.\n",
      "\t - Iteration 297 done in 0.81s.\n",
      "\t - Iteration 298 done in 0.60s.\n",
      "\t - Iteration 299 done in 0.01s.\n",
      "\t - Iteration 300 done in 0.84s.\n",
      "\t - Iteration 301 done in 1.65s.\n",
      "\t - Iteration 302 done in 0.25s.\n",
      "\t - Iteration 303 done in 0.04s.\n",
      "\t - Iteration 304 done in 0.01s.\n",
      "\t - Iteration 305 done in 1.41s.\n",
      "\t - Iteration 306 done in 0.15s.\n",
      "\t - Iteration 307 done in 0.20s.\n",
      "\t - Iteration 308 done in 0.15s.\n",
      "\t - Iteration 309 done in 0.24s.\n",
      "\t - Iteration 310 done in 0.04s.\n",
      "\t - Iteration 311 done in 0.02s.\n",
      "\t - Iteration 312 done in 1.67s.\n",
      "\t - Iteration 313 done in 0.16s.\n",
      "\t - Iteration 314 done in 1.39s.\n",
      "\t - Iteration 315 done in 2.00s.\n",
      "\t - Iteration 316 done in 0.09s.\n",
      "\t - Iteration 317 done in 1.51s.\n",
      "\t - Iteration 318 done in 0.13s.\n",
      "\t - Iteration 319 done in 0.04s.\n",
      "\t - Iteration 320 done in 0.35s.\n",
      "\t - Iteration 321 done in 1.59s.\n",
      "\t - Iteration 322 done in 1.02s.\n",
      "\t - Iteration 323 done in 0.24s.\n",
      "\t - Iteration 324 done in 1.01s.\n",
      "\t - Iteration 325 done in 0.18s.\n",
      "\t - Iteration 326 done in 0.93s.\n",
      "\t - Iteration 327 done in 0.02s.\n",
      "\t - Iteration 328 done in 0.11s.\n",
      "\t - Iteration 329 done in 0.18s.\n",
      "\t - Iteration 330 done in 0.61s.\n",
      "\t - Iteration 331 done in 0.07s.\n",
      "\t - Iteration 332 done in 1.24s.\n",
      "\t - Iteration 333 done in 0.49s.\n",
      "\t - Iteration 334 done in 0.28s.\n",
      "\t - Iteration 335 done in 0.39s.\n",
      "\t - Iteration 336 done in 0.08s.\n",
      "\t - Iteration 337 done in 0.59s.\n",
      "\t - Iteration 338 done in 0.07s.\n",
      "\t - Iteration 339 done in 0.71s.\n",
      "\t - Iteration 340 done in 0.01s.\n",
      "\t - Iteration 341 done in 0.99s.\n",
      "\t - Iteration 342 done in 0.40s.\n",
      "\t - Iteration 343 done in 0.77s.\n",
      "\t - Iteration 344 done in 0.56s.\n",
      "\t - Iteration 345 done in 0.21s.\n",
      "\t - Iteration 346 done in 0.06s.\n",
      "\t - Iteration 347 done in 0.57s.\n",
      "\t - Iteration 348 done in 0.14s.\n",
      "\t - Iteration 349 done in 0.83s.\n",
      "\t - Iteration 350 done in 0.15s.\n",
      "\t - Iteration 351 done in 0.52s.\n",
      "\t - Iteration 352 done in 0.59s.\n",
      "\t - Iteration 353 done in 0.66s.\n",
      "\t - Iteration 354 done in 0.03s.\n",
      "\t - Iteration 355 done in 0.55s.\n",
      "\t - Iteration 356 done in 0.12s.\n",
      "\t - Iteration 357 done in 0.94s.\n",
      "\t - Iteration 358 done in 1.66s.\n",
      "\t - Iteration 359 done in 0.27s.\n",
      "\t - Iteration 360 done in 0.11s.\n",
      "\t - Iteration 361 done in 0.15s.\n",
      "\t - Iteration 362 done in 1.77s.\n",
      "\t - Iteration 363 done in 0.56s.\n",
      "\t - Iteration 364 done in 0.50s.\n",
      "\t - Iteration 365 done in 0.56s.\n",
      "\t - Iteration 366 done in 0.08s.\n",
      "\t - Iteration 367 done in 0.63s.\n",
      "\t - Iteration 368 done in 0.52s.\n",
      "\t - Iteration 369 done in 0.03s.\n",
      "\t - Iteration 370 done in 0.57s.\n",
      "\t - Iteration 371 done in 0.20s.\n",
      "\t - Iteration 372 done in 1.19s.\n",
      "\t - Iteration 373 done in 0.34s.\n",
      "\t - Iteration 374 done in 0.48s.\n",
      "\t - Iteration 375 done in 0.42s.\n",
      "\t - Iteration 376 done in 0.04s.\n",
      "\t - Iteration 377 done in 0.32s.\n",
      "\t - Iteration 378 done in 0.20s.\n",
      "\t - Iteration 379 done in 1.70s.\n",
      "\t - Iteration 380 done in 0.04s.\n",
      "\t - Iteration 381 done in 1.81s.\n",
      "\t - Iteration 382 done in 0.08s.\n",
      "\t - Iteration 383 done in 1.34s.\n",
      "\t - Iteration 384 done in 0.09s.\n",
      "\t - Iteration 385 done in 0.20s.\n",
      "\t - Iteration 386 done in 1.08s.\n",
      "\t - Iteration 387 done in 0.98s.\n",
      "\t - Iteration 388 done in 0.07s.\n",
      "\t - Iteration 389 done in 2.40s.\n",
      "\t - Iteration 390 done in 0.51s.\n",
      "\t - Iteration 391 done in 0.03s.\n",
      "\t - Iteration 392 done in 0.70s.\n",
      "\t - Iteration 393 done in 0.16s.\n",
      "\t - Iteration 394 done in 0.26s.\n",
      "\t - Iteration 395 done in 0.04s.\n",
      "\t - Iteration 396 done in 0.19s.\n",
      "\t - Iteration 397 done in 0.50s.\n",
      "\t - Iteration 398 done in 0.04s.\n",
      "\t - Iteration 399 done in 0.61s.\n",
      "\t - Iteration 400 done in 0.06s.\n",
      "\t - Iteration 401 done in 0.10s.\n",
      "\t - Iteration 402 done in 0.18s.\n",
      "\t - Iteration 403 done in 0.90s.\n",
      "\t - Iteration 404 done in 0.63s.\n",
      "\t - Iteration 405 done in 0.54s.\n",
      "\t - Iteration 406 done in 1.47s.\n",
      "\t - Iteration 407 done in 0.03s.\n",
      "\t - Iteration 408 done in 1.79s.\n",
      "\t - Iteration 409 done in 0.08s.\n",
      "\t - Iteration 410 done in 0.08s.\n",
      "\t - Iteration 411 done in 1.76s.\n",
      "\t - Iteration 412 done in 0.04s.\n",
      "\t - Iteration 413 done in 0.84s.\n",
      "\t - Iteration 414 done in 0.45s.\n",
      "\t - Iteration 415 done in 0.04s.\n",
      "\t - Iteration 416 done in 0.18s.\n",
      "\t - Iteration 417 done in 1.75s.\n",
      "\t - Iteration 418 done in 0.54s.\n",
      "\t - Iteration 419 done in 0.97s.\n",
      "\t - Iteration 420 done in 0.47s.\n",
      "\t - Iteration 421 done in 0.31s.\n",
      "\t - Iteration 422 done in 1.44s.\n",
      "\t - Iteration 423 done in 0.34s.\n",
      "\t - Iteration 424 done in 0.35s.\n",
      "\t - Iteration 425 done in 0.95s.\n",
      "\t - Iteration 426 done in 1.07s.\n",
      "\t - Iteration 427 done in 0.13s.\n",
      "\t - Iteration 428 done in 0.09s.\n",
      "\t - Iteration 429 done in 0.11s.\n",
      "\t - Iteration 430 done in 0.07s.\n",
      "\t - Iteration 431 done in 0.04s.\n",
      "\t - Iteration 432 done in 0.20s.\n",
      "\t - Iteration 433 done in 0.04s.\n",
      "\t - Iteration 434 done in 0.30s.\n",
      "\t - Iteration 435 done in 0.32s.\n",
      "\t - Iteration 436 done in 0.42s.\n",
      "\t - Iteration 437 done in 0.91s.\n",
      "\t - Iteration 438 done in 0.72s.\n",
      "\t - Iteration 439 done in 0.04s.\n",
      "\t - Iteration 440 done in 0.23s.\n",
      "\t - Iteration 441 done in 0.03s.\n",
      "\t - Iteration 442 done in 1.90s.\n",
      "\t - Iteration 443 done in 1.27s.\n",
      "\t - Iteration 444 done in 0.15s.\n",
      "\t - Iteration 445 done in 0.72s.\n",
      "\t - Iteration 446 done in 0.08s.\n",
      "\t - Iteration 447 done in 0.21s.\n",
      "\t - Iteration 448 done in 0.05s.\n",
      "\t - Iteration 449 done in 0.08s.\n",
      "\t - Iteration 450 done in 0.28s.\n",
      "\t - Iteration 451 done in 0.68s.\n",
      "\t - Iteration 452 done in 0.42s.\n",
      "\t - Iteration 453 done in 0.06s.\n",
      "\t - Iteration 454 done in 0.26s.\n",
      "\t - Iteration 455 done in 0.35s.\n",
      "\t - Iteration 456 done in 0.83s.\n",
      "\t - Iteration 457 done in 1.11s.\n",
      "\t - Iteration 458 done in 0.15s.\n",
      "\t - Iteration 459 done in 0.25s.\n",
      "\t - Iteration 460 done in 0.20s.\n",
      "\t - Iteration 461 done in 1.01s.\n",
      "\t - Iteration 462 done in 0.22s.\n",
      "\t - Iteration 463 done in 0.03s.\n",
      "\t - Iteration 464 done in 0.11s.\n",
      "\t - Iteration 465 done in 0.05s.\n",
      "\t - Iteration 466 done in 0.29s.\n",
      "\t - Iteration 467 done in 1.89s.\n",
      "\t - Iteration 468 done in 0.13s.\n",
      "\t - Iteration 469 done in 0.03s.\n",
      "\t - Iteration 470 done in 0.20s.\n",
      "\t - Iteration 471 done in 0.05s.\n",
      "\t - Iteration 472 done in 1.28s.\n",
      "\t - Iteration 473 done in 0.93s.\n",
      "\t - Iteration 474 done in 0.02s.\n",
      "\t - Iteration 475 done in 0.21s.\n",
      "\t - Iteration 476 done in 0.01s.\n",
      "\t - Iteration 477 done in 0.26s.\n",
      "\t - Iteration 478 done in 0.74s.\n",
      "\t - Iteration 479 done in 0.29s.\n",
      "\t - Iteration 480 done in 0.13s.\n",
      "\t - Iteration 481 done in 0.37s.\n",
      "\t - Iteration 482 done in 0.02s.\n",
      "\t - Iteration 483 done in 0.08s.\n",
      "\t - Iteration 484 done in 0.15s.\n",
      "\t - Iteration 485 done in 0.05s.\n",
      "\t - Iteration 486 done in 1.10s.\n",
      "\t - Iteration 487 done in 0.74s.\n",
      "\t - Iteration 488 done in 0.53s.\n",
      "\t - Iteration 489 done in 0.03s.\n",
      "\t - Iteration 490 done in 0.76s.\n",
      "\t - Iteration 491 done in 0.03s.\n",
      "\t - Iteration 492 done in 0.71s.\n",
      "\t - Iteration 493 done in 1.66s.\n",
      "\t - Iteration 494 done in 0.43s.\n",
      "\t - Iteration 495 done in 0.69s.\n",
      "\t - Iteration 496 done in 0.72s.\n",
      "\t - Iteration 497 done in 1.71s.\n",
      "\t - Iteration 498 done in 0.25s.\n",
      "\t - Iteration 499 done in 0.40s.\n"
     ]
    }
   ],
   "source": [
    "lambd, doc_topic_distrib = SVI_for_LDA(\n",
    "    corpus,\n",
    "    V,\n",
    "    K=10,\n",
    "    alpha=1.0,\n",
    "    eta=1.0,\n",
    "    max_iter=500,\n",
    "    tau=100,\n",
    "    kappa=0.7,\n",
    "    e_step_iter=30\n",
    ")"
   ]
  },
  {
   "cell_type": "code",
   "execution_count": 147,
   "id": "dfdab249",
   "metadata": {},
   "outputs": [
    {
     "data": {
      "text/html": [
       "<div>\n",
       "<style scoped>\n",
       "    .dataframe tbody tr th:only-of-type {\n",
       "        vertical-align: middle;\n",
       "    }\n",
       "\n",
       "    .dataframe tbody tr th {\n",
       "        vertical-align: top;\n",
       "    }\n",
       "\n",
       "    .dataframe thead th {\n",
       "        text-align: right;\n",
       "    }\n",
       "</style>\n",
       "<table border=\"1\" class=\"dataframe\">\n",
       "  <thead>\n",
       "    <tr style=\"text-align: right;\">\n",
       "      <th></th>\n",
       "      <th>Topic 0</th>\n",
       "      <th>Topic 1</th>\n",
       "      <th>Topic 2</th>\n",
       "      <th>Topic 3</th>\n",
       "      <th>Topic 4</th>\n",
       "      <th>Topic 5</th>\n",
       "      <th>Topic 6</th>\n",
       "      <th>Topic 7</th>\n",
       "      <th>Topic 8</th>\n",
       "      <th>Topic 9</th>\n",
       "    </tr>\n",
       "    <tr>\n",
       "      <th>Rank</th>\n",
       "      <th></th>\n",
       "      <th></th>\n",
       "      <th></th>\n",
       "      <th></th>\n",
       "      <th></th>\n",
       "      <th></th>\n",
       "      <th></th>\n",
       "      <th></th>\n",
       "      <th></th>\n",
       "      <th></th>\n",
       "    </tr>\n",
       "  </thead>\n",
       "  <tbody>\n",
       "    <tr>\n",
       "      <th>1</th>\n",
       "      <td>culture</td>\n",
       "      <td>business</td>\n",
       "      <td>political</td>\n",
       "      <td>language</td>\n",
       "      <td>war</td>\n",
       "      <td>nature</td>\n",
       "      <td>sports</td>\n",
       "      <td>culture</td>\n",
       "      <td>lodge</td>\n",
       "      <td>internet</td>\n",
       "    </tr>\n",
       "    <tr>\n",
       "      <th>2</th>\n",
       "      <td>india</td>\n",
       "      <td>company</td>\n",
       "      <td>state</td>\n",
       "      <td>languages</td>\n",
       "      <td>military</td>\n",
       "      <td>life</td>\n",
       "      <td>women</td>\n",
       "      <td>media</td>\n",
       "      <td>grand</td>\n",
       "      <td>facebook</td>\n",
       "    </tr>\n",
       "    <tr>\n",
       "      <th>3</th>\n",
       "      <td>century</td>\n",
       "      <td>also</td>\n",
       "      <td>party</td>\n",
       "      <td>english</td>\n",
       "      <td>spanish</td>\n",
       "      <td>earth</td>\n",
       "      <td>sport</td>\n",
       "      <td>million</td>\n",
       "      <td>church</td>\n",
       "      <td>users</td>\n",
       "    </tr>\n",
       "    <tr>\n",
       "      <th>4</th>\n",
       "      <td>also</td>\n",
       "      <td>research</td>\n",
       "      <td>government</td>\n",
       "      <td>words</td>\n",
       "      <td>spain</td>\n",
       "      <td>science</td>\n",
       "      <td>team</td>\n",
       "      <td>people</td>\n",
       "      <td>first</td>\n",
       "      <td>data</td>\n",
       "    </tr>\n",
       "    <tr>\n",
       "      <th>5</th>\n",
       "      <td>period</td>\n",
       "      <td>canada</td>\n",
       "      <td>right</td>\n",
       "      <td>used</td>\n",
       "      <td>city</td>\n",
       "      <td>one</td>\n",
       "      <td>league</td>\n",
       "      <td>women</td>\n",
       "      <td>lodges</td>\n",
       "      <td>used</td>\n",
       "    </tr>\n",
       "    <tr>\n",
       "      <th>6</th>\n",
       "      <td>early</td>\n",
       "      <td>network</td>\n",
       "      <td>russian</td>\n",
       "      <td>also</td>\n",
       "      <td>gaza</td>\n",
       "      <td>would</td>\n",
       "      <td>men</td>\n",
       "      <td>news</td>\n",
       "      <td>century</td>\n",
       "      <td>explorer</td>\n",
       "    </tr>\n",
       "    <tr>\n",
       "      <th>7</th>\n",
       "      <td>modern</td>\n",
       "      <td>service</td>\n",
       "      <td>election</td>\n",
       "      <td>spoken</td>\n",
       "      <td>government</td>\n",
       "      <td>history</td>\n",
       "      <td>football</td>\n",
       "      <td>new</td>\n",
       "      <td>god</td>\n",
       "      <td>use</td>\n",
       "    </tr>\n",
       "    <tr>\n",
       "      <th>8</th>\n",
       "      <td>art</td>\n",
       "      <td>billion</td>\n",
       "      <td>president</td>\n",
       "      <td>word</td>\n",
       "      <td>led</td>\n",
       "      <td>philosophy</td>\n",
       "      <td>female</td>\n",
       "      <td>also</td>\n",
       "      <td>one</td>\n",
       "      <td>windows</td>\n",
       "    </tr>\n",
       "    <tr>\n",
       "      <th>9</th>\n",
       "      <td>history</td>\n",
       "      <td>united</td>\n",
       "      <td>national</td>\n",
       "      <td>speakers</td>\n",
       "      <td>became</td>\n",
       "      <td>natural</td>\n",
       "      <td>world</td>\n",
       "      <td>would</td>\n",
       "      <td>edinburgh</td>\n",
       "      <td>content</td>\n",
       "    </tr>\n",
       "    <tr>\n",
       "      <th>10</th>\n",
       "      <td>western</td>\n",
       "      <td>based</td>\n",
       "      <td>parliament</td>\n",
       "      <td>use</td>\n",
       "      <td>first</td>\n",
       "      <td>first</td>\n",
       "      <td>games</td>\n",
       "      <td>facebook</td>\n",
       "      <td>freemasonry</td>\n",
       "      <td>user</td>\n",
       "    </tr>\n",
       "    <tr>\n",
       "      <th>11</th>\n",
       "      <td>known</td>\n",
       "      <td>services</td>\n",
       "      <td>republican</td>\n",
       "      <td>official</td>\n",
       "      <td>madrid</td>\n",
       "      <td>also</td>\n",
       "      <td>athletes</td>\n",
       "      <td>social</td>\n",
       "      <td>new</td>\n",
       "      <td>also</td>\n",
       "    </tr>\n",
       "    <tr>\n",
       "      <th>12</th>\n",
       "      <td>indian</td>\n",
       "      <td>million</td>\n",
       "      <td>states</td>\n",
       "      <td>creole</td>\n",
       "      <td>century</td>\n",
       "      <td>human</td>\n",
       "      <td>professional</td>\n",
       "      <td>one</td>\n",
       "      <td>also</td>\n",
       "      <td>may</td>\n",
       "    </tr>\n",
       "    <tr>\n",
       "      <th>13</th>\n",
       "      <td>people</td>\n",
       "      <td>first</td>\n",
       "      <td>members</td>\n",
       "      <td>written</td>\n",
       "      <td>country</td>\n",
       "      <td>time</td>\n",
       "      <td>first</td>\n",
       "      <td>magazine</td>\n",
       "      <td>master</td>\n",
       "      <td>using</td>\n",
       "    </tr>\n",
       "    <tr>\n",
       "      <th>14</th>\n",
       "      <td>bce</td>\n",
       "      <td>include</td>\n",
       "      <td>parties</td>\n",
       "      <td>romanian</td>\n",
       "      <td>army</td>\n",
       "      <td>may</td>\n",
       "      <td>game</td>\n",
       "      <td>time</td>\n",
       "      <td>masons</td>\n",
       "      <td>web</td>\n",
       "    </tr>\n",
       "    <tr>\n",
       "      <th>15</th>\n",
       "      <td>found</td>\n",
       "      <td>programs</td>\n",
       "      <td>politics</td>\n",
       "      <td>example</td>\n",
       "      <td>years</td>\n",
       "      <td>used</td>\n",
       "      <td>american</td>\n",
       "      <td>group</td>\n",
       "      <td>history</td>\n",
       "      <td>type</td>\n",
       "    </tr>\n",
       "    <tr>\n",
       "      <th>16</th>\n",
       "      <td>cultural</td>\n",
       "      <td>small</td>\n",
       "      <td>elections</td>\n",
       "      <td>standard</td>\n",
       "      <td>population</td>\n",
       "      <td>could</td>\n",
       "      <td>season</td>\n",
       "      <td>said</td>\n",
       "      <td>masonic</td>\n",
       "      <td>iptv</td>\n",
       "    </tr>\n",
       "    <tr>\n",
       "      <th>17</th>\n",
       "      <td>africa</td>\n",
       "      <td>many</td>\n",
       "      <td>united</td>\n",
       "      <td>dialects</td>\n",
       "      <td>japanese</td>\n",
       "      <td>scientific</td>\n",
       "      <td>players</td>\n",
       "      <td>music</td>\n",
       "      <td>english</td>\n",
       "      <td>information</td>\n",
       "    </tr>\n",
       "    <tr>\n",
       "      <th>18</th>\n",
       "      <td>around</td>\n",
       "      <td>new</td>\n",
       "      <td>minister</td>\n",
       "      <td>alphabet</td>\n",
       "      <td>forces</td>\n",
       "      <td>world</td>\n",
       "      <td>national</td>\n",
       "      <td>company</td>\n",
       "      <td>christian</td>\n",
       "      <td>code</td>\n",
       "    </tr>\n",
       "    <tr>\n",
       "      <th>19</th>\n",
       "      <td>many</td>\n",
       "      <td>development</td>\n",
       "      <td>social</td>\n",
       "      <td>many</td>\n",
       "      <td>chinese</td>\n",
       "      <td>theory</td>\n",
       "      <td>basketball</td>\n",
       "      <td>film</td>\n",
       "      <td>scotland</td>\n",
       "      <td>access</td>\n",
       "    </tr>\n",
       "    <tr>\n",
       "      <th>20</th>\n",
       "      <td>one</td>\n",
       "      <td>states</td>\n",
       "      <td>law</td>\n",
       "      <td>latin</td>\n",
       "      <td>battle</td>\n",
       "      <td>organisms</td>\n",
       "      <td>teams</td>\n",
       "      <td>history</td>\n",
       "      <td>england</td>\n",
       "      <td>system</td>\n",
       "    </tr>\n",
       "  </tbody>\n",
       "</table>\n",
       "</div>"
      ],
      "text/plain": [
       "       Topic 0      Topic 1     Topic 2    Topic 3     Topic 4     Topic 5  \\\n",
       "Rank                                                                         \n",
       "1      culture     business   political   language         war      nature   \n",
       "2        india      company       state  languages    military        life   \n",
       "3      century         also       party    english     spanish       earth   \n",
       "4         also     research  government      words       spain     science   \n",
       "5       period       canada       right       used        city         one   \n",
       "6        early      network     russian       also        gaza       would   \n",
       "7       modern      service    election     spoken  government     history   \n",
       "8          art      billion   president       word         led  philosophy   \n",
       "9      history       united    national   speakers      became     natural   \n",
       "10     western        based  parliament        use       first       first   \n",
       "11       known     services  republican   official      madrid        also   \n",
       "12      indian      million      states     creole     century       human   \n",
       "13      people        first     members    written     country        time   \n",
       "14         bce      include     parties   romanian        army         may   \n",
       "15       found     programs    politics    example       years        used   \n",
       "16    cultural        small   elections   standard  population       could   \n",
       "17      africa         many      united   dialects    japanese  scientific   \n",
       "18      around          new    minister   alphabet      forces       world   \n",
       "19        many  development      social       many     chinese      theory   \n",
       "20         one       states         law      latin      battle   organisms   \n",
       "\n",
       "           Topic 6   Topic 7      Topic 8      Topic 9  \n",
       "Rank                                                    \n",
       "1           sports   culture        lodge     internet  \n",
       "2            women     media        grand     facebook  \n",
       "3            sport   million       church        users  \n",
       "4             team    people        first         data  \n",
       "5           league     women       lodges         used  \n",
       "6              men      news      century     explorer  \n",
       "7         football       new          god          use  \n",
       "8           female      also          one      windows  \n",
       "9            world     would    edinburgh      content  \n",
       "10           games  facebook  freemasonry         user  \n",
       "11        athletes    social          new         also  \n",
       "12    professional       one         also          may  \n",
       "13           first  magazine       master        using  \n",
       "14            game      time       masons          web  \n",
       "15        american     group      history         type  \n",
       "16          season      said      masonic         iptv  \n",
       "17         players     music      english  information  \n",
       "18        national   company    christian         code  \n",
       "19      basketball      film     scotland       access  \n",
       "20           teams   history      england       system  "
      ]
     },
     "execution_count": 147,
     "metadata": {},
     "output_type": "execute_result"
    }
   ],
   "source": [
    "n_top_words = 20\n",
    "inv_vocab = {i: w for w, i in vocab.items()}\n",
    "\n",
    "dict_top_words = {}\n",
    "for k in range(lambd.shape[0]):\n",
    "    top_word_ids = lambd[k].argsort()[::-1][:n_top_words]\n",
    "    top_words = [inv_vocab[i] for i in top_word_ids]\n",
    "    dict_top_words[f\"Topic {k}\"] = top_words\n",
    "\n",
    "df_top_words = pd.DataFrame(dict_top_words)\n",
    "df_top_words.index += 1\n",
    "df_top_words.index.name = \"Rank\"\n",
    "df_top_words"
   ]
  },
  {
   "cell_type": "code",
   "execution_count": 185,
   "id": "5072fd05",
   "metadata": {},
   "outputs": [],
   "source": [
    "# Wordcloud to do here"
   ]
  },
  {
   "cell_type": "code",
   "execution_count": 59,
   "id": "2ed37e51",
   "metadata": {},
   "outputs": [],
   "source": [
    "rows = []\n",
    "\n",
    "for title, theta in doc_topic_distrib.items():\n",
    "    row = {\n",
    "        'Article': title,\n",
    "        'Seed': wiki_articles[title][\"seed\"],\n",
    "        'Top topic': np.argmax(theta)\n",
    "    }\n",
    "    for i, val in enumerate(theta):\n",
    "        row[f'Topic {i} prob'] = np.round(val*100, 2)\n",
    "    rows.append(row)\n",
    "\n",
    "df_results = pd.DataFrame(rows)"
   ]
  },
  {
   "cell_type": "code",
   "execution_count": 75,
   "id": "826636b6",
   "metadata": {},
   "outputs": [
    {
     "data": {
      "text/html": [
       "<div>\n",
       "<style scoped>\n",
       "    .dataframe tbody tr th:only-of-type {\n",
       "        vertical-align: middle;\n",
       "    }\n",
       "\n",
       "    .dataframe tbody tr th {\n",
       "        vertical-align: top;\n",
       "    }\n",
       "\n",
       "    .dataframe thead th {\n",
       "        text-align: right;\n",
       "    }\n",
       "</style>\n",
       "<table border=\"1\" class=\"dataframe\">\n",
       "  <thead>\n",
       "    <tr style=\"text-align: right;\">\n",
       "      <th></th>\n",
       "      <th>Article</th>\n",
       "      <th>Seed</th>\n",
       "      <th>Top topic</th>\n",
       "      <th>Topic 0 prob</th>\n",
       "      <th>Topic 1 prob</th>\n",
       "      <th>Topic 2 prob</th>\n",
       "      <th>Topic 3 prob</th>\n",
       "      <th>Topic 4 prob</th>\n",
       "      <th>Topic 5 prob</th>\n",
       "      <th>Topic 6 prob</th>\n",
       "      <th>Topic 7 prob</th>\n",
       "      <th>Topic 8 prob</th>\n",
       "      <th>Topic 9 prob</th>\n",
       "    </tr>\n",
       "  </thead>\n",
       "  <tbody>\n",
       "    <tr>\n",
       "      <th>0</th>\n",
       "      <td>Anaximander</td>\n",
       "      <td>nature</td>\n",
       "      <td>5</td>\n",
       "      <td>10.56</td>\n",
       "      <td>8.15</td>\n",
       "      <td>9.97</td>\n",
       "      <td>5.92</td>\n",
       "      <td>10.17</td>\n",
       "      <td>17.24</td>\n",
       "      <td>10.93</td>\n",
       "      <td>8.80</td>\n",
       "      <td>9.87</td>\n",
       "      <td>8.39</td>\n",
       "    </tr>\n",
       "    <tr>\n",
       "      <th>1</th>\n",
       "      <td>Language family</td>\n",
       "      <td>language</td>\n",
       "      <td>3</td>\n",
       "      <td>6.40</td>\n",
       "      <td>13.74</td>\n",
       "      <td>5.41</td>\n",
       "      <td>27.67</td>\n",
       "      <td>7.37</td>\n",
       "      <td>1.17</td>\n",
       "      <td>8.26</td>\n",
       "      <td>9.29</td>\n",
       "      <td>6.75</td>\n",
       "      <td>13.96</td>\n",
       "    </tr>\n",
       "    <tr>\n",
       "      <th>2</th>\n",
       "      <td>Politics of Edinburgh</td>\n",
       "      <td>politics</td>\n",
       "      <td>8</td>\n",
       "      <td>0.21</td>\n",
       "      <td>4.95</td>\n",
       "      <td>45.74</td>\n",
       "      <td>0.18</td>\n",
       "      <td>1.29</td>\n",
       "      <td>0.16</td>\n",
       "      <td>0.22</td>\n",
       "      <td>0.17</td>\n",
       "      <td>46.89</td>\n",
       "      <td>0.20</td>\n",
       "    </tr>\n",
       "    <tr>\n",
       "      <th>3</th>\n",
       "      <td>Culture of Mali</td>\n",
       "      <td>culture</td>\n",
       "      <td>0</td>\n",
       "      <td>63.38</td>\n",
       "      <td>0.59</td>\n",
       "      <td>0.32</td>\n",
       "      <td>0.48</td>\n",
       "      <td>0.39</td>\n",
       "      <td>0.35</td>\n",
       "      <td>9.76</td>\n",
       "      <td>18.44</td>\n",
       "      <td>3.88</td>\n",
       "      <td>2.42</td>\n",
       "    </tr>\n",
       "    <tr>\n",
       "      <th>4</th>\n",
       "      <td>Nature Methods</td>\n",
       "      <td>nature</td>\n",
       "      <td>5</td>\n",
       "      <td>1.79</td>\n",
       "      <td>4.03</td>\n",
       "      <td>2.45</td>\n",
       "      <td>2.13</td>\n",
       "      <td>1.83</td>\n",
       "      <td>76.29</td>\n",
       "      <td>3.03</td>\n",
       "      <td>2.90</td>\n",
       "      <td>2.32</td>\n",
       "      <td>3.22</td>\n",
       "    </tr>\n",
       "    <tr>\n",
       "      <th>...</th>\n",
       "      <td>...</td>\n",
       "      <td>...</td>\n",
       "      <td>...</td>\n",
       "      <td>...</td>\n",
       "      <td>...</td>\n",
       "      <td>...</td>\n",
       "      <td>...</td>\n",
       "      <td>...</td>\n",
       "      <td>...</td>\n",
       "      <td>...</td>\n",
       "      <td>...</td>\n",
       "      <td>...</td>\n",
       "      <td>...</td>\n",
       "    </tr>\n",
       "    <tr>\n",
       "      <th>399</th>\n",
       "      <td>Russian language</td>\n",
       "      <td>language</td>\n",
       "      <td>3</td>\n",
       "      <td>2.87</td>\n",
       "      <td>1.29</td>\n",
       "      <td>17.59</td>\n",
       "      <td>54.88</td>\n",
       "      <td>5.64</td>\n",
       "      <td>0.15</td>\n",
       "      <td>0.23</td>\n",
       "      <td>2.71</td>\n",
       "      <td>13.43</td>\n",
       "      <td>1.21</td>\n",
       "    </tr>\n",
       "    <tr>\n",
       "      <th>400</th>\n",
       "      <td>Chechen language</td>\n",
       "      <td>language</td>\n",
       "      <td>3</td>\n",
       "      <td>6.97</td>\n",
       "      <td>0.74</td>\n",
       "      <td>4.06</td>\n",
       "      <td>81.09</td>\n",
       "      <td>2.88</td>\n",
       "      <td>1.03</td>\n",
       "      <td>0.16</td>\n",
       "      <td>0.51</td>\n",
       "      <td>2.00</td>\n",
       "      <td>0.58</td>\n",
       "    </tr>\n",
       "    <tr>\n",
       "      <th>401</th>\n",
       "      <td>Culture of Japan</td>\n",
       "      <td>culture</td>\n",
       "      <td>0</td>\n",
       "      <td>48.68</td>\n",
       "      <td>3.59</td>\n",
       "      <td>0.14</td>\n",
       "      <td>9.33</td>\n",
       "      <td>15.24</td>\n",
       "      <td>6.56</td>\n",
       "      <td>3.71</td>\n",
       "      <td>11.60</td>\n",
       "      <td>0.18</td>\n",
       "      <td>0.95</td>\n",
       "    </tr>\n",
       "    <tr>\n",
       "      <th>402</th>\n",
       "      <td>Internet Explorer</td>\n",
       "      <td>internet</td>\n",
       "      <td>9</td>\n",
       "      <td>0.29</td>\n",
       "      <td>3.14</td>\n",
       "      <td>0.73</td>\n",
       "      <td>0.64</td>\n",
       "      <td>3.54</td>\n",
       "      <td>0.27</td>\n",
       "      <td>0.84</td>\n",
       "      <td>4.00</td>\n",
       "      <td>0.24</td>\n",
       "      <td>86.31</td>\n",
       "    </tr>\n",
       "    <tr>\n",
       "      <th>403</th>\n",
       "      <td>Recorded history</td>\n",
       "      <td>history</td>\n",
       "      <td>0</td>\n",
       "      <td>52.32</td>\n",
       "      <td>0.83</td>\n",
       "      <td>0.20</td>\n",
       "      <td>3.67</td>\n",
       "      <td>0.93</td>\n",
       "      <td>24.39</td>\n",
       "      <td>0.18</td>\n",
       "      <td>5.10</td>\n",
       "      <td>7.11</td>\n",
       "      <td>5.28</td>\n",
       "    </tr>\n",
       "  </tbody>\n",
       "</table>\n",
       "<p>404 rows × 13 columns</p>\n",
       "</div>"
      ],
      "text/plain": [
       "                   Article      Seed  Top topic  Topic 0 prob  Topic 1 prob  \\\n",
       "0              Anaximander    nature          5         10.56          8.15   \n",
       "1          Language family  language          3          6.40         13.74   \n",
       "2    Politics of Edinburgh  politics          8          0.21          4.95   \n",
       "3          Culture of Mali   culture          0         63.38          0.59   \n",
       "4           Nature Methods    nature          5          1.79          4.03   \n",
       "..                     ...       ...        ...           ...           ...   \n",
       "399       Russian language  language          3          2.87          1.29   \n",
       "400       Chechen language  language          3          6.97          0.74   \n",
       "401       Culture of Japan   culture          0         48.68          3.59   \n",
       "402      Internet Explorer  internet          9          0.29          3.14   \n",
       "403       Recorded history   history          0         52.32          0.83   \n",
       "\n",
       "     Topic 2 prob  Topic 3 prob  Topic 4 prob  Topic 5 prob  Topic 6 prob  \\\n",
       "0            9.97          5.92         10.17         17.24         10.93   \n",
       "1            5.41         27.67          7.37          1.17          8.26   \n",
       "2           45.74          0.18          1.29          0.16          0.22   \n",
       "3            0.32          0.48          0.39          0.35          9.76   \n",
       "4            2.45          2.13          1.83         76.29          3.03   \n",
       "..            ...           ...           ...           ...           ...   \n",
       "399         17.59         54.88          5.64          0.15          0.23   \n",
       "400          4.06         81.09          2.88          1.03          0.16   \n",
       "401          0.14          9.33         15.24          6.56          3.71   \n",
       "402          0.73          0.64          3.54          0.27          0.84   \n",
       "403          0.20          3.67          0.93         24.39          0.18   \n",
       "\n",
       "     Topic 7 prob  Topic 8 prob  Topic 9 prob  \n",
       "0            8.80          9.87          8.39  \n",
       "1            9.29          6.75         13.96  \n",
       "2            0.17         46.89          0.20  \n",
       "3           18.44          3.88          2.42  \n",
       "4            2.90          2.32          3.22  \n",
       "..            ...           ...           ...  \n",
       "399          2.71         13.43          1.21  \n",
       "400          0.51          2.00          0.58  \n",
       "401         11.60          0.18          0.95  \n",
       "402          4.00          0.24         86.31  \n",
       "403          5.10          7.11          5.28  \n",
       "\n",
       "[404 rows x 13 columns]"
      ]
     },
     "execution_count": 75,
     "metadata": {},
     "output_type": "execute_result"
    }
   ],
   "source": [
    "df_results"
   ]
  },
  {
   "cell_type": "code",
   "execution_count": 60,
   "id": "502c2ea9",
   "metadata": {},
   "outputs": [
    {
     "data": {
      "application/vnd.plotly.v1+json": {
       "config": {
        "plotlyServerURL": "https://plot.ly"
       },
       "data": [
        {
         "domain": {
          "x": [
           0,
           1
          ],
          "y": [
           0,
           1
          ]
         },
         "hole": 0.4,
         "hovertemplate": "Topic=%{label}<br>Count=%{value}<extra></extra>",
         "labels": [
          "Topic 0",
          "Topic 1",
          "Topic 2",
          "Topic 3",
          "Topic 4",
          "Topic 5",
          "Topic 6",
          "Topic 7",
          "Topic 8",
          "Topic 9"
         ],
         "legendgroup": "",
         "name": "",
         "showlegend": true,
         "type": "pie",
         "values": {
          "bdata": "KTcnLB4tIDMRMg==",
          "dtype": "i1"
         }
        }
       ],
       "layout": {
        "legend": {
         "tracegroupgap": 0
        },
        "piecolorway": [
         "rgb(136, 204, 238)",
         "rgb(204, 102, 119)",
         "rgb(221, 204, 119)",
         "rgb(17, 119, 51)",
         "rgb(51, 34, 136)",
         "rgb(170, 68, 153)",
         "rgb(68, 170, 153)",
         "rgb(153, 153, 51)",
         "rgb(136, 34, 85)",
         "rgb(102, 17, 0)",
         "rgb(136, 136, 136)"
        ],
        "template": {
         "data": {
          "bar": [
           {
            "error_x": {
             "color": "#2a3f5f"
            },
            "error_y": {
             "color": "#2a3f5f"
            },
            "marker": {
             "line": {
              "color": "#E5ECF6",
              "width": 0.5
             },
             "pattern": {
              "fillmode": "overlay",
              "size": 10,
              "solidity": 0.2
             }
            },
            "type": "bar"
           }
          ],
          "barpolar": [
           {
            "marker": {
             "line": {
              "color": "#E5ECF6",
              "width": 0.5
             },
             "pattern": {
              "fillmode": "overlay",
              "size": 10,
              "solidity": 0.2
             }
            },
            "type": "barpolar"
           }
          ],
          "carpet": [
           {
            "aaxis": {
             "endlinecolor": "#2a3f5f",
             "gridcolor": "white",
             "linecolor": "white",
             "minorgridcolor": "white",
             "startlinecolor": "#2a3f5f"
            },
            "baxis": {
             "endlinecolor": "#2a3f5f",
             "gridcolor": "white",
             "linecolor": "white",
             "minorgridcolor": "white",
             "startlinecolor": "#2a3f5f"
            },
            "type": "carpet"
           }
          ],
          "choropleth": [
           {
            "colorbar": {
             "outlinewidth": 0,
             "ticks": ""
            },
            "type": "choropleth"
           }
          ],
          "contour": [
           {
            "colorbar": {
             "outlinewidth": 0,
             "ticks": ""
            },
            "colorscale": [
             [
              0,
              "#0d0887"
             ],
             [
              0.1111111111111111,
              "#46039f"
             ],
             [
              0.2222222222222222,
              "#7201a8"
             ],
             [
              0.3333333333333333,
              "#9c179e"
             ],
             [
              0.4444444444444444,
              "#bd3786"
             ],
             [
              0.5555555555555556,
              "#d8576b"
             ],
             [
              0.6666666666666666,
              "#ed7953"
             ],
             [
              0.7777777777777778,
              "#fb9f3a"
             ],
             [
              0.8888888888888888,
              "#fdca26"
             ],
             [
              1,
              "#f0f921"
             ]
            ],
            "type": "contour"
           }
          ],
          "contourcarpet": [
           {
            "colorbar": {
             "outlinewidth": 0,
             "ticks": ""
            },
            "type": "contourcarpet"
           }
          ],
          "heatmap": [
           {
            "colorbar": {
             "outlinewidth": 0,
             "ticks": ""
            },
            "colorscale": [
             [
              0,
              "#0d0887"
             ],
             [
              0.1111111111111111,
              "#46039f"
             ],
             [
              0.2222222222222222,
              "#7201a8"
             ],
             [
              0.3333333333333333,
              "#9c179e"
             ],
             [
              0.4444444444444444,
              "#bd3786"
             ],
             [
              0.5555555555555556,
              "#d8576b"
             ],
             [
              0.6666666666666666,
              "#ed7953"
             ],
             [
              0.7777777777777778,
              "#fb9f3a"
             ],
             [
              0.8888888888888888,
              "#fdca26"
             ],
             [
              1,
              "#f0f921"
             ]
            ],
            "type": "heatmap"
           }
          ],
          "histogram": [
           {
            "marker": {
             "pattern": {
              "fillmode": "overlay",
              "size": 10,
              "solidity": 0.2
             }
            },
            "type": "histogram"
           }
          ],
          "histogram2d": [
           {
            "colorbar": {
             "outlinewidth": 0,
             "ticks": ""
            },
            "colorscale": [
             [
              0,
              "#0d0887"
             ],
             [
              0.1111111111111111,
              "#46039f"
             ],
             [
              0.2222222222222222,
              "#7201a8"
             ],
             [
              0.3333333333333333,
              "#9c179e"
             ],
             [
              0.4444444444444444,
              "#bd3786"
             ],
             [
              0.5555555555555556,
              "#d8576b"
             ],
             [
              0.6666666666666666,
              "#ed7953"
             ],
             [
              0.7777777777777778,
              "#fb9f3a"
             ],
             [
              0.8888888888888888,
              "#fdca26"
             ],
             [
              1,
              "#f0f921"
             ]
            ],
            "type": "histogram2d"
           }
          ],
          "histogram2dcontour": [
           {
            "colorbar": {
             "outlinewidth": 0,
             "ticks": ""
            },
            "colorscale": [
             [
              0,
              "#0d0887"
             ],
             [
              0.1111111111111111,
              "#46039f"
             ],
             [
              0.2222222222222222,
              "#7201a8"
             ],
             [
              0.3333333333333333,
              "#9c179e"
             ],
             [
              0.4444444444444444,
              "#bd3786"
             ],
             [
              0.5555555555555556,
              "#d8576b"
             ],
             [
              0.6666666666666666,
              "#ed7953"
             ],
             [
              0.7777777777777778,
              "#fb9f3a"
             ],
             [
              0.8888888888888888,
              "#fdca26"
             ],
             [
              1,
              "#f0f921"
             ]
            ],
            "type": "histogram2dcontour"
           }
          ],
          "mesh3d": [
           {
            "colorbar": {
             "outlinewidth": 0,
             "ticks": ""
            },
            "type": "mesh3d"
           }
          ],
          "parcoords": [
           {
            "line": {
             "colorbar": {
              "outlinewidth": 0,
              "ticks": ""
             }
            },
            "type": "parcoords"
           }
          ],
          "pie": [
           {
            "automargin": true,
            "type": "pie"
           }
          ],
          "scatter": [
           {
            "fillpattern": {
             "fillmode": "overlay",
             "size": 10,
             "solidity": 0.2
            },
            "type": "scatter"
           }
          ],
          "scatter3d": [
           {
            "line": {
             "colorbar": {
              "outlinewidth": 0,
              "ticks": ""
             }
            },
            "marker": {
             "colorbar": {
              "outlinewidth": 0,
              "ticks": ""
             }
            },
            "type": "scatter3d"
           }
          ],
          "scattercarpet": [
           {
            "marker": {
             "colorbar": {
              "outlinewidth": 0,
              "ticks": ""
             }
            },
            "type": "scattercarpet"
           }
          ],
          "scattergeo": [
           {
            "marker": {
             "colorbar": {
              "outlinewidth": 0,
              "ticks": ""
             }
            },
            "type": "scattergeo"
           }
          ],
          "scattergl": [
           {
            "marker": {
             "colorbar": {
              "outlinewidth": 0,
              "ticks": ""
             }
            },
            "type": "scattergl"
           }
          ],
          "scattermap": [
           {
            "marker": {
             "colorbar": {
              "outlinewidth": 0,
              "ticks": ""
             }
            },
            "type": "scattermap"
           }
          ],
          "scattermapbox": [
           {
            "marker": {
             "colorbar": {
              "outlinewidth": 0,
              "ticks": ""
             }
            },
            "type": "scattermapbox"
           }
          ],
          "scatterpolar": [
           {
            "marker": {
             "colorbar": {
              "outlinewidth": 0,
              "ticks": ""
             }
            },
            "type": "scatterpolar"
           }
          ],
          "scatterpolargl": [
           {
            "marker": {
             "colorbar": {
              "outlinewidth": 0,
              "ticks": ""
             }
            },
            "type": "scatterpolargl"
           }
          ],
          "scatterternary": [
           {
            "marker": {
             "colorbar": {
              "outlinewidth": 0,
              "ticks": ""
             }
            },
            "type": "scatterternary"
           }
          ],
          "surface": [
           {
            "colorbar": {
             "outlinewidth": 0,
             "ticks": ""
            },
            "colorscale": [
             [
              0,
              "#0d0887"
             ],
             [
              0.1111111111111111,
              "#46039f"
             ],
             [
              0.2222222222222222,
              "#7201a8"
             ],
             [
              0.3333333333333333,
              "#9c179e"
             ],
             [
              0.4444444444444444,
              "#bd3786"
             ],
             [
              0.5555555555555556,
              "#d8576b"
             ],
             [
              0.6666666666666666,
              "#ed7953"
             ],
             [
              0.7777777777777778,
              "#fb9f3a"
             ],
             [
              0.8888888888888888,
              "#fdca26"
             ],
             [
              1,
              "#f0f921"
             ]
            ],
            "type": "surface"
           }
          ],
          "table": [
           {
            "cells": {
             "fill": {
              "color": "#EBF0F8"
             },
             "line": {
              "color": "white"
             }
            },
            "header": {
             "fill": {
              "color": "#C8D4E3"
             },
             "line": {
              "color": "white"
             }
            },
            "type": "table"
           }
          ]
         },
         "layout": {
          "annotationdefaults": {
           "arrowcolor": "#2a3f5f",
           "arrowhead": 0,
           "arrowwidth": 1
          },
          "autotypenumbers": "strict",
          "coloraxis": {
           "colorbar": {
            "outlinewidth": 0,
            "ticks": ""
           }
          },
          "colorscale": {
           "diverging": [
            [
             0,
             "#8e0152"
            ],
            [
             0.1,
             "#c51b7d"
            ],
            [
             0.2,
             "#de77ae"
            ],
            [
             0.3,
             "#f1b6da"
            ],
            [
             0.4,
             "#fde0ef"
            ],
            [
             0.5,
             "#f7f7f7"
            ],
            [
             0.6,
             "#e6f5d0"
            ],
            [
             0.7,
             "#b8e186"
            ],
            [
             0.8,
             "#7fbc41"
            ],
            [
             0.9,
             "#4d9221"
            ],
            [
             1,
             "#276419"
            ]
           ],
           "sequential": [
            [
             0,
             "#0d0887"
            ],
            [
             0.1111111111111111,
             "#46039f"
            ],
            [
             0.2222222222222222,
             "#7201a8"
            ],
            [
             0.3333333333333333,
             "#9c179e"
            ],
            [
             0.4444444444444444,
             "#bd3786"
            ],
            [
             0.5555555555555556,
             "#d8576b"
            ],
            [
             0.6666666666666666,
             "#ed7953"
            ],
            [
             0.7777777777777778,
             "#fb9f3a"
            ],
            [
             0.8888888888888888,
             "#fdca26"
            ],
            [
             1,
             "#f0f921"
            ]
           ],
           "sequentialminus": [
            [
             0,
             "#0d0887"
            ],
            [
             0.1111111111111111,
             "#46039f"
            ],
            [
             0.2222222222222222,
             "#7201a8"
            ],
            [
             0.3333333333333333,
             "#9c179e"
            ],
            [
             0.4444444444444444,
             "#bd3786"
            ],
            [
             0.5555555555555556,
             "#d8576b"
            ],
            [
             0.6666666666666666,
             "#ed7953"
            ],
            [
             0.7777777777777778,
             "#fb9f3a"
            ],
            [
             0.8888888888888888,
             "#fdca26"
            ],
            [
             1,
             "#f0f921"
            ]
           ]
          },
          "colorway": [
           "#636efa",
           "#EF553B",
           "#00cc96",
           "#ab63fa",
           "#FFA15A",
           "#19d3f3",
           "#FF6692",
           "#B6E880",
           "#FF97FF",
           "#FECB52"
          ],
          "font": {
           "color": "#2a3f5f"
          },
          "geo": {
           "bgcolor": "white",
           "lakecolor": "white",
           "landcolor": "#E5ECF6",
           "showlakes": true,
           "showland": true,
           "subunitcolor": "white"
          },
          "hoverlabel": {
           "align": "left"
          },
          "hovermode": "closest",
          "mapbox": {
           "style": "light"
          },
          "paper_bgcolor": "white",
          "plot_bgcolor": "#E5ECF6",
          "polar": {
           "angularaxis": {
            "gridcolor": "white",
            "linecolor": "white",
            "ticks": ""
           },
           "bgcolor": "#E5ECF6",
           "radialaxis": {
            "gridcolor": "white",
            "linecolor": "white",
            "ticks": ""
           }
          },
          "scene": {
           "xaxis": {
            "backgroundcolor": "#E5ECF6",
            "gridcolor": "white",
            "gridwidth": 2,
            "linecolor": "white",
            "showbackground": true,
            "ticks": "",
            "zerolinecolor": "white"
           },
           "yaxis": {
            "backgroundcolor": "#E5ECF6",
            "gridcolor": "white",
            "gridwidth": 2,
            "linecolor": "white",
            "showbackground": true,
            "ticks": "",
            "zerolinecolor": "white"
           },
           "zaxis": {
            "backgroundcolor": "#E5ECF6",
            "gridcolor": "white",
            "gridwidth": 2,
            "linecolor": "white",
            "showbackground": true,
            "ticks": "",
            "zerolinecolor": "white"
           }
          },
          "shapedefaults": {
           "line": {
            "color": "#2a3f5f"
           }
          },
          "ternary": {
           "aaxis": {
            "gridcolor": "white",
            "linecolor": "white",
            "ticks": ""
           },
           "baxis": {
            "gridcolor": "white",
            "linecolor": "white",
            "ticks": ""
           },
           "bgcolor": "#E5ECF6",
           "caxis": {
            "gridcolor": "white",
            "linecolor": "white",
            "ticks": ""
           }
          },
          "title": {
           "x": 0.05
          },
          "xaxis": {
           "automargin": true,
           "gridcolor": "white",
           "linecolor": "white",
           "ticks": "",
           "title": {
            "standoff": 15
           },
           "zerolinecolor": "white",
           "zerolinewidth": 2
          },
          "yaxis": {
           "automargin": true,
           "gridcolor": "white",
           "linecolor": "white",
           "ticks": "",
           "title": {
            "standoff": 15
           },
           "zerolinecolor": "white",
           "zerolinewidth": 2
          }
         }
        },
        "title": {
         "text": "Répartition des topics dominants dans le corpus"
        }
       }
      }
     },
     "metadata": {},
     "output_type": "display_data"
    }
   ],
   "source": [
    "topic_counts = df_results['Top topic'].value_counts().sort_index().reset_index()\n",
    "\n",
    "topic_counts.columns = ['Topic', 'Count']\n",
    "topic_counts['Topic'] = topic_counts['Topic'].apply(lambda x: f'Topic {x}')\n",
    "\n",
    "fig = px.pie(\n",
    "    topic_counts,\n",
    "    names='Topic',\n",
    "    values='Count',\n",
    "    title='Répartition des topics dominants dans le corpus',\n",
    "    hole=0.4,\n",
    "    color_discrete_sequence=px.colors.qualitative.Safe\n",
    ")\n",
    "\n",
    "fig.show()"
   ]
  },
  {
   "cell_type": "code",
   "execution_count": 74,
   "id": "5306126f",
   "metadata": {},
   "outputs": [
    {
     "data": {
      "text/plain": [
       "Seed\n",
       "history     58\n",
       "language    57\n",
       "culture     57\n",
       "nature      50\n",
       "internet    50\n",
       "politics    48\n",
       "business    48\n",
       "sports      36\n",
       "Name: count, dtype: int64"
      ]
     },
     "execution_count": 74,
     "metadata": {},
     "output_type": "execute_result"
    }
   ],
   "source": [
    "df_results[\"Seed\"].value_counts()"
   ]
  },
  {
   "cell_type": "code",
   "execution_count": null,
   "id": "b57f318c",
   "metadata": {},
   "outputs": [
    {
     "data": {
      "text/html": [
       "<div>\n",
       "<style scoped>\n",
       "    .dataframe tbody tr th:only-of-type {\n",
       "        vertical-align: middle;\n",
       "    }\n",
       "\n",
       "    .dataframe tbody tr th {\n",
       "        vertical-align: top;\n",
       "    }\n",
       "\n",
       "    .dataframe thead th {\n",
       "        text-align: right;\n",
       "    }\n",
       "</style>\n",
       "<table border=\"1\" class=\"dataframe\">\n",
       "  <thead>\n",
       "    <tr style=\"text-align: right;\">\n",
       "      <th></th>\n",
       "      <th>Topic 0</th>\n",
       "      <th>Topic 1</th>\n",
       "      <th>Topic 2</th>\n",
       "      <th>Topic 3</th>\n",
       "      <th>Topic 4</th>\n",
       "      <th>Topic 5</th>\n",
       "      <th>Topic 6</th>\n",
       "      <th>Topic 7</th>\n",
       "      <th>Topic 8</th>\n",
       "      <th>Topic 9</th>\n",
       "    </tr>\n",
       "    <tr>\n",
       "      <th>Seed</th>\n",
       "      <th></th>\n",
       "      <th></th>\n",
       "      <th></th>\n",
       "      <th></th>\n",
       "      <th></th>\n",
       "      <th></th>\n",
       "      <th></th>\n",
       "      <th></th>\n",
       "      <th></th>\n",
       "      <th></th>\n",
       "    </tr>\n",
       "  </thead>\n",
       "  <tbody>\n",
       "    <tr>\n",
       "      <th>business</th>\n",
       "      <td>0</td>\n",
       "      <td>32</td>\n",
       "      <td>2</td>\n",
       "      <td>0</td>\n",
       "      <td>1</td>\n",
       "      <td>0</td>\n",
       "      <td>2</td>\n",
       "      <td>9</td>\n",
       "      <td>1</td>\n",
       "      <td>1</td>\n",
       "    </tr>\n",
       "    <tr>\n",
       "      <th>culture</th>\n",
       "      <td>24</td>\n",
       "      <td>5</td>\n",
       "      <td>0</td>\n",
       "      <td>0</td>\n",
       "      <td>4</td>\n",
       "      <td>6</td>\n",
       "      <td>0</td>\n",
       "      <td>10</td>\n",
       "      <td>3</td>\n",
       "      <td>5</td>\n",
       "    </tr>\n",
       "    <tr>\n",
       "      <th>history</th>\n",
       "      <td>13</td>\n",
       "      <td>1</td>\n",
       "      <td>2</td>\n",
       "      <td>1</td>\n",
       "      <td>17</td>\n",
       "      <td>8</td>\n",
       "      <td>3</td>\n",
       "      <td>7</td>\n",
       "      <td>4</td>\n",
       "      <td>2</td>\n",
       "    </tr>\n",
       "    <tr>\n",
       "      <th>internet</th>\n",
       "      <td>0</td>\n",
       "      <td>9</td>\n",
       "      <td>0</td>\n",
       "      <td>0</td>\n",
       "      <td>1</td>\n",
       "      <td>0</td>\n",
       "      <td>0</td>\n",
       "      <td>6</td>\n",
       "      <td>0</td>\n",
       "      <td>34</td>\n",
       "    </tr>\n",
       "    <tr>\n",
       "      <th>language</th>\n",
       "      <td>4</td>\n",
       "      <td>0</td>\n",
       "      <td>0</td>\n",
       "      <td>43</td>\n",
       "      <td>1</td>\n",
       "      <td>0</td>\n",
       "      <td>0</td>\n",
       "      <td>1</td>\n",
       "      <td>2</td>\n",
       "      <td>6</td>\n",
       "    </tr>\n",
       "    <tr>\n",
       "      <th>nature</th>\n",
       "      <td>0</td>\n",
       "      <td>3</td>\n",
       "      <td>0</td>\n",
       "      <td>0</td>\n",
       "      <td>2</td>\n",
       "      <td>30</td>\n",
       "      <td>0</td>\n",
       "      <td>11</td>\n",
       "      <td>4</td>\n",
       "      <td>0</td>\n",
       "    </tr>\n",
       "    <tr>\n",
       "      <th>politics</th>\n",
       "      <td>0</td>\n",
       "      <td>0</td>\n",
       "      <td>35</td>\n",
       "      <td>0</td>\n",
       "      <td>4</td>\n",
       "      <td>0</td>\n",
       "      <td>1</td>\n",
       "      <td>3</td>\n",
       "      <td>3</td>\n",
       "      <td>2</td>\n",
       "    </tr>\n",
       "    <tr>\n",
       "      <th>sports</th>\n",
       "      <td>0</td>\n",
       "      <td>5</td>\n",
       "      <td>0</td>\n",
       "      <td>0</td>\n",
       "      <td>0</td>\n",
       "      <td>1</td>\n",
       "      <td>26</td>\n",
       "      <td>4</td>\n",
       "      <td>0</td>\n",
       "      <td>0</td>\n",
       "    </tr>\n",
       "  </tbody>\n",
       "</table>\n",
       "</div>"
      ],
      "text/plain": [
       "          Topic 0  Topic 1  Topic 2  Topic 3  Topic 4  Topic 5  Topic 6  \\\n",
       "Seed                                                                      \n",
       "business        0       32        2        0        1        0        2   \n",
       "culture        24        5        0        0        4        6        0   \n",
       "history        13        1        2        1       17        8        3   \n",
       "internet        0        9        0        0        1        0        0   \n",
       "language        4        0        0       43        1        0        0   \n",
       "nature          0        3        0        0        2       30        0   \n",
       "politics        0        0       35        0        4        0        1   \n",
       "sports          0        5        0        0        0        1       26   \n",
       "\n",
       "          Topic 7  Topic 8  Topic 9  \n",
       "Seed                                 \n",
       "business        9        1        1  \n",
       "culture        10        3        5  \n",
       "history         7        4        2  \n",
       "internet        6        0       34  \n",
       "language        1        2        6  \n",
       "nature         11        4        0  \n",
       "politics        3        3        2  \n",
       "sports          4        0        0  "
      ]
     },
     "execution_count": 92,
     "metadata": {},
     "output_type": "execute_result"
    }
   ],
   "source": [
    "df_pivot = pd.pivot_table(\n",
    "    df_results,\n",
    "    index=\"Seed\",\n",
    "    columns=\"Top topic\",\n",
    "    aggfunc=\"size\",\n",
    "    fill_value=0\n",
    ")\n",
    "df_pivot.columns = [f\"Topic {c}\" for c in df_pivot.columns]\n",
    "# df_pivot.reset_index(inplace=True)\n",
    "df_pivot"
   ]
  },
  {
   "cell_type": "code",
   "execution_count": null,
   "id": "e14f5562",
   "metadata": {},
   "outputs": [
    {
     "data": {
      "application/vnd.plotly.v1+json": {
       "config": {
        "plotlyServerURL": "https://plot.ly"
       },
       "data": [
        {
         "hovertemplate": "Topic=Topic 0<br>Seed=%{x}<br>Proportion=%{y}<extra></extra>",
         "legendgroup": "Topic 0",
         "marker": {
          "color": "rgb(95, 70, 144)",
          "pattern": {
           "shape": ""
          }
         },
         "name": "Topic 0",
         "orientation": "v",
         "showlegend": true,
         "textposition": "auto",
         "type": "bar",
         "x": [
          "business",
          "culture",
          "history",
          "internet",
          "language",
          "nature",
          "politics",
          "sports"
         ],
         "xaxis": "x",
         "y": {
          "bdata": "AAAAAAAAAAAor6G8hvLaP9QIyz2NsMw/AAAAAAAAAABwH8F9BPexPwAAAAAAAAAAAAAAAAAAAAAAAAAAAAAAAA==",
          "dtype": "f8"
         },
         "yaxis": "y"
        },
        {
         "hovertemplate": "Topic=Topic 1<br>Seed=%{x}<br>Proportion=%{y}<extra></extra>",
         "legendgroup": "Topic 1",
         "marker": {
          "color": "rgb(29, 105, 150)",
          "pattern": {
           "shape": ""
          }
         },
         "name": "Topic 1",
         "orientation": "v",
         "showlegend": true,
         "textposition": "auto",
         "type": "bar",
         "x": [
          "business",
          "culture",
          "history",
          "internet",
          "language",
          "nature",
          "politics",
          "sports"
         ],
         "xaxis": "x",
         "y": {
          "bdata": "VVVVVVVV5T9MZzGdxXS2P5Z7GmG5p5E/CtejcD0Kxz8AAAAAAAAAALgehetRuK4/AAAAAAAAAAByHMdxHMfBPw==",
          "dtype": "f8"
         },
         "yaxis": "y"
        },
        {
         "hovertemplate": "Topic=Topic 2<br>Seed=%{x}<br>Proportion=%{y}<extra></extra>",
         "legendgroup": "Topic 2",
         "marker": {
          "color": "rgb(56, 166, 165)",
          "pattern": {
           "shape": ""
          }
         },
         "name": "Topic 2",
         "orientation": "v",
         "showlegend": true,
         "textposition": "auto",
         "type": "bar",
         "x": [
          "business",
          "culture",
          "history",
          "internet",
          "language",
          "nature",
          "politics",
          "sports"
         ],
         "xaxis": "x",
         "y": {
          "bdata": "VVVVVVVVpT8AAAAAAAAAAJZ7GmG5p6E/AAAAAAAAAAAAAAAAAAAAAAAAAAAAAAAAVVVVVVVV5z8AAAAAAAAAAA==",
          "dtype": "f8"
         },
         "yaxis": "y"
        },
        {
         "hovertemplate": "Topic=Topic 3<br>Seed=%{x}<br>Proportion=%{y}<extra></extra>",
         "legendgroup": "Topic 3",
         "marker": {
          "color": "rgb(15, 133, 84)",
          "pattern": {
           "shape": ""
          }
         },
         "name": "Topic 3",
         "orientation": "v",
         "showlegend": true,
         "textposition": "auto",
         "type": "bar",
         "x": [
          "business",
          "culture",
          "history",
          "internet",
          "language",
          "nature",
          "politics",
          "sports"
         ],
         "xaxis": "x",
         "y": {
          "bdata": "AAAAAAAAAAAAAAAAAAAAAJZ7GmG5p5E/AAAAAAAAAAA/gvsI7iPoPwAAAAAAAAAAAAAAAAAAAAAAAAAAAAAAAA==",
          "dtype": "f8"
         },
         "yaxis": "y"
        },
        {
         "hovertemplate": "Topic=Topic 4<br>Seed=%{x}<br>Proportion=%{y}<extra></extra>",
         "legendgroup": "Topic 4",
         "marker": {
          "color": "rgb(115, 175, 72)",
          "pattern": {
           "shape": ""
          }
         },
         "name": "Topic 4",
         "orientation": "v",
         "showlegend": true,
         "textposition": "auto",
         "type": "bar",
         "x": [
          "business",
          "culture",
          "history",
          "internet",
          "language",
          "nature",
          "politics",
          "sports"
         ],
         "xaxis": "x",
         "y": {
          "bdata": "VVVVVVVVlT9wH8F9BPexP08jLPc0wtI/exSuR+F6lD9wH8F9BPeRP3sUrkfheqQ/VVVVVVVVtT8AAAAAAAAAAA==",
          "dtype": "f8"
         },
         "yaxis": "y"
        },
        {
         "hovertemplate": "Topic=Topic 5<br>Seed=%{x}<br>Proportion=%{y}<extra></extra>",
         "legendgroup": "Topic 5",
         "marker": {
          "color": "rgb(237, 173, 8)",
          "pattern": {
           "shape": ""
          }
         },
         "name": "Topic 5",
         "orientation": "v",
         "showlegend": true,
         "textposition": "auto",
         "type": "bar",
         "x": [
          "business",
          "culture",
          "history",
          "internet",
          "language",
          "nature",
          "politics",
          "sports"
         ],
         "xaxis": "x",
         "y": {
          "bdata": "AAAAAAAAAAAor6G8hvK6P5Z7GmG5p8E/AAAAAAAAAAAAAAAAAAAAADMzMzMzM+M/AAAAAAAAAAAcx3Ecx3GcPw==",
          "dtype": "f8"
         },
         "yaxis": "y"
        },
        {
         "hovertemplate": "Topic=Topic 6<br>Seed=%{x}<br>Proportion=%{y}<extra></extra>",
         "legendgroup": "Topic 6",
         "marker": {
          "color": "rgb(225, 124, 5)",
          "pattern": {
           "shape": ""
          }
         },
         "name": "Topic 6",
         "orientation": "v",
         "showlegend": true,
         "textposition": "auto",
         "type": "bar",
         "x": [
          "business",
          "culture",
          "history",
          "internet",
          "language",
          "nature",
          "politics",
          "sports"
         ],
         "xaxis": "x",
         "y": {
          "bdata": "VVVVVVVVpT8AAAAAAAAAAGG5pxGWe6o/AAAAAAAAAAAAAAAAAAAAAAAAAAAAAAAAVVVVVVVVlT/HcRzHcRznPw==",
          "dtype": "f8"
         },
         "yaxis": "y"
        },
        {
         "hovertemplate": "Topic=Topic 7<br>Seed=%{x}<br>Proportion=%{y}<extra></extra>",
         "legendgroup": "Topic 7",
         "marker": {
          "color": "rgb(204, 80, 62)",
          "pattern": {
           "shape": ""
          }
         },
         "name": "Topic 7",
         "orientation": "v",
         "showlegend": true,
         "textposition": "auto",
         "type": "bar",
         "x": [
          "business",
          "culture",
          "history",
          "internet",
          "language",
          "nature",
          "politics",
          "sports"
         ],
         "xaxis": "x",
         "y": {
          "bdata": "AAAAAAAAyD9MZzGdxXTGP0dY7mmE5b4/uB6F61G4vj9wH8F9BPeRPylcj8L1KMw/AAAAAAAAsD8cx3Ecx3G8Pw==",
          "dtype": "f8"
         },
         "yaxis": "y"
        },
        {
         "hovertemplate": "Topic=Topic 8<br>Seed=%{x}<br>Proportion=%{y}<extra></extra>",
         "legendgroup": "Topic 8",
         "marker": {
          "color": "rgb(148, 52, 110)",
          "pattern": {
           "shape": ""
          }
         },
         "name": "Topic 8",
         "orientation": "v",
         "showlegend": true,
         "textposition": "auto",
         "type": "bar",
         "x": [
          "business",
          "culture",
          "history",
          "internet",
          "language",
          "nature",
          "politics",
          "sports"
         ],
         "xaxis": "x",
         "y": {
          "bdata": "VVVVVVVVlT8or6G8hvKqP5Z7GmG5p7E/AAAAAAAAAABwH8F9BPehP3sUrkfherQ/AAAAAAAAsD8AAAAAAAAAAA==",
          "dtype": "f8"
         },
         "yaxis": "y"
        },
        {
         "hovertemplate": "Topic=Topic 9<br>Seed=%{x}<br>Proportion=%{y}<extra></extra>",
         "legendgroup": "Topic 9",
         "marker": {
          "color": "rgb(111, 64, 112)",
          "pattern": {
           "shape": ""
          }
         },
         "name": "Topic 9",
         "orientation": "v",
         "showlegend": true,
         "textposition": "auto",
         "type": "bar",
         "x": [
          "business",
          "culture",
          "history",
          "internet",
          "language",
          "nature",
          "politics",
          "sports"
         ],
         "xaxis": "x",
         "y": {
          "bdata": "VVVVVVVVlT9MZzGdxXS2P5Z7GmG5p6E/w/UoXI/C5T8or6G8hvK6PwAAAAAAAAAAVVVVVVVVpT8AAAAAAAAAAA==",
          "dtype": "f8"
         },
         "yaxis": "y"
        }
       ],
       "layout": {
        "barmode": "stack",
        "legend": {
         "title": {
          "text": "Topic"
         },
         "tracegroupgap": 0
        },
        "template": {
         "data": {
          "bar": [
           {
            "error_x": {
             "color": "#2a3f5f"
            },
            "error_y": {
             "color": "#2a3f5f"
            },
            "marker": {
             "line": {
              "color": "white",
              "width": 0.5
             },
             "pattern": {
              "fillmode": "overlay",
              "size": 10,
              "solidity": 0.2
             }
            },
            "type": "bar"
           }
          ],
          "barpolar": [
           {
            "marker": {
             "line": {
              "color": "white",
              "width": 0.5
             },
             "pattern": {
              "fillmode": "overlay",
              "size": 10,
              "solidity": 0.2
             }
            },
            "type": "barpolar"
           }
          ],
          "carpet": [
           {
            "aaxis": {
             "endlinecolor": "#2a3f5f",
             "gridcolor": "#C8D4E3",
             "linecolor": "#C8D4E3",
             "minorgridcolor": "#C8D4E3",
             "startlinecolor": "#2a3f5f"
            },
            "baxis": {
             "endlinecolor": "#2a3f5f",
             "gridcolor": "#C8D4E3",
             "linecolor": "#C8D4E3",
             "minorgridcolor": "#C8D4E3",
             "startlinecolor": "#2a3f5f"
            },
            "type": "carpet"
           }
          ],
          "choropleth": [
           {
            "colorbar": {
             "outlinewidth": 0,
             "ticks": ""
            },
            "type": "choropleth"
           }
          ],
          "contour": [
           {
            "colorbar": {
             "outlinewidth": 0,
             "ticks": ""
            },
            "colorscale": [
             [
              0,
              "#0d0887"
             ],
             [
              0.1111111111111111,
              "#46039f"
             ],
             [
              0.2222222222222222,
              "#7201a8"
             ],
             [
              0.3333333333333333,
              "#9c179e"
             ],
             [
              0.4444444444444444,
              "#bd3786"
             ],
             [
              0.5555555555555556,
              "#d8576b"
             ],
             [
              0.6666666666666666,
              "#ed7953"
             ],
             [
              0.7777777777777778,
              "#fb9f3a"
             ],
             [
              0.8888888888888888,
              "#fdca26"
             ],
             [
              1,
              "#f0f921"
             ]
            ],
            "type": "contour"
           }
          ],
          "contourcarpet": [
           {
            "colorbar": {
             "outlinewidth": 0,
             "ticks": ""
            },
            "type": "contourcarpet"
           }
          ],
          "heatmap": [
           {
            "colorbar": {
             "outlinewidth": 0,
             "ticks": ""
            },
            "colorscale": [
             [
              0,
              "#0d0887"
             ],
             [
              0.1111111111111111,
              "#46039f"
             ],
             [
              0.2222222222222222,
              "#7201a8"
             ],
             [
              0.3333333333333333,
              "#9c179e"
             ],
             [
              0.4444444444444444,
              "#bd3786"
             ],
             [
              0.5555555555555556,
              "#d8576b"
             ],
             [
              0.6666666666666666,
              "#ed7953"
             ],
             [
              0.7777777777777778,
              "#fb9f3a"
             ],
             [
              0.8888888888888888,
              "#fdca26"
             ],
             [
              1,
              "#f0f921"
             ]
            ],
            "type": "heatmap"
           }
          ],
          "histogram": [
           {
            "marker": {
             "pattern": {
              "fillmode": "overlay",
              "size": 10,
              "solidity": 0.2
             }
            },
            "type": "histogram"
           }
          ],
          "histogram2d": [
           {
            "colorbar": {
             "outlinewidth": 0,
             "ticks": ""
            },
            "colorscale": [
             [
              0,
              "#0d0887"
             ],
             [
              0.1111111111111111,
              "#46039f"
             ],
             [
              0.2222222222222222,
              "#7201a8"
             ],
             [
              0.3333333333333333,
              "#9c179e"
             ],
             [
              0.4444444444444444,
              "#bd3786"
             ],
             [
              0.5555555555555556,
              "#d8576b"
             ],
             [
              0.6666666666666666,
              "#ed7953"
             ],
             [
              0.7777777777777778,
              "#fb9f3a"
             ],
             [
              0.8888888888888888,
              "#fdca26"
             ],
             [
              1,
              "#f0f921"
             ]
            ],
            "type": "histogram2d"
           }
          ],
          "histogram2dcontour": [
           {
            "colorbar": {
             "outlinewidth": 0,
             "ticks": ""
            },
            "colorscale": [
             [
              0,
              "#0d0887"
             ],
             [
              0.1111111111111111,
              "#46039f"
             ],
             [
              0.2222222222222222,
              "#7201a8"
             ],
             [
              0.3333333333333333,
              "#9c179e"
             ],
             [
              0.4444444444444444,
              "#bd3786"
             ],
             [
              0.5555555555555556,
              "#d8576b"
             ],
             [
              0.6666666666666666,
              "#ed7953"
             ],
             [
              0.7777777777777778,
              "#fb9f3a"
             ],
             [
              0.8888888888888888,
              "#fdca26"
             ],
             [
              1,
              "#f0f921"
             ]
            ],
            "type": "histogram2dcontour"
           }
          ],
          "mesh3d": [
           {
            "colorbar": {
             "outlinewidth": 0,
             "ticks": ""
            },
            "type": "mesh3d"
           }
          ],
          "parcoords": [
           {
            "line": {
             "colorbar": {
              "outlinewidth": 0,
              "ticks": ""
             }
            },
            "type": "parcoords"
           }
          ],
          "pie": [
           {
            "automargin": true,
            "type": "pie"
           }
          ],
          "scatter": [
           {
            "fillpattern": {
             "fillmode": "overlay",
             "size": 10,
             "solidity": 0.2
            },
            "type": "scatter"
           }
          ],
          "scatter3d": [
           {
            "line": {
             "colorbar": {
              "outlinewidth": 0,
              "ticks": ""
             }
            },
            "marker": {
             "colorbar": {
              "outlinewidth": 0,
              "ticks": ""
             }
            },
            "type": "scatter3d"
           }
          ],
          "scattercarpet": [
           {
            "marker": {
             "colorbar": {
              "outlinewidth": 0,
              "ticks": ""
             }
            },
            "type": "scattercarpet"
           }
          ],
          "scattergeo": [
           {
            "marker": {
             "colorbar": {
              "outlinewidth": 0,
              "ticks": ""
             }
            },
            "type": "scattergeo"
           }
          ],
          "scattergl": [
           {
            "marker": {
             "colorbar": {
              "outlinewidth": 0,
              "ticks": ""
             }
            },
            "type": "scattergl"
           }
          ],
          "scattermap": [
           {
            "marker": {
             "colorbar": {
              "outlinewidth": 0,
              "ticks": ""
             }
            },
            "type": "scattermap"
           }
          ],
          "scattermapbox": [
           {
            "marker": {
             "colorbar": {
              "outlinewidth": 0,
              "ticks": ""
             }
            },
            "type": "scattermapbox"
           }
          ],
          "scatterpolar": [
           {
            "marker": {
             "colorbar": {
              "outlinewidth": 0,
              "ticks": ""
             }
            },
            "type": "scatterpolar"
           }
          ],
          "scatterpolargl": [
           {
            "marker": {
             "colorbar": {
              "outlinewidth": 0,
              "ticks": ""
             }
            },
            "type": "scatterpolargl"
           }
          ],
          "scatterternary": [
           {
            "marker": {
             "colorbar": {
              "outlinewidth": 0,
              "ticks": ""
             }
            },
            "type": "scatterternary"
           }
          ],
          "surface": [
           {
            "colorbar": {
             "outlinewidth": 0,
             "ticks": ""
            },
            "colorscale": [
             [
              0,
              "#0d0887"
             ],
             [
              0.1111111111111111,
              "#46039f"
             ],
             [
              0.2222222222222222,
              "#7201a8"
             ],
             [
              0.3333333333333333,
              "#9c179e"
             ],
             [
              0.4444444444444444,
              "#bd3786"
             ],
             [
              0.5555555555555556,
              "#d8576b"
             ],
             [
              0.6666666666666666,
              "#ed7953"
             ],
             [
              0.7777777777777778,
              "#fb9f3a"
             ],
             [
              0.8888888888888888,
              "#fdca26"
             ],
             [
              1,
              "#f0f921"
             ]
            ],
            "type": "surface"
           }
          ],
          "table": [
           {
            "cells": {
             "fill": {
              "color": "#EBF0F8"
             },
             "line": {
              "color": "white"
             }
            },
            "header": {
             "fill": {
              "color": "#C8D4E3"
             },
             "line": {
              "color": "white"
             }
            },
            "type": "table"
           }
          ]
         },
         "layout": {
          "annotationdefaults": {
           "arrowcolor": "#2a3f5f",
           "arrowhead": 0,
           "arrowwidth": 1
          },
          "autotypenumbers": "strict",
          "coloraxis": {
           "colorbar": {
            "outlinewidth": 0,
            "ticks": ""
           }
          },
          "colorscale": {
           "diverging": [
            [
             0,
             "#8e0152"
            ],
            [
             0.1,
             "#c51b7d"
            ],
            [
             0.2,
             "#de77ae"
            ],
            [
             0.3,
             "#f1b6da"
            ],
            [
             0.4,
             "#fde0ef"
            ],
            [
             0.5,
             "#f7f7f7"
            ],
            [
             0.6,
             "#e6f5d0"
            ],
            [
             0.7,
             "#b8e186"
            ],
            [
             0.8,
             "#7fbc41"
            ],
            [
             0.9,
             "#4d9221"
            ],
            [
             1,
             "#276419"
            ]
           ],
           "sequential": [
            [
             0,
             "#0d0887"
            ],
            [
             0.1111111111111111,
             "#46039f"
            ],
            [
             0.2222222222222222,
             "#7201a8"
            ],
            [
             0.3333333333333333,
             "#9c179e"
            ],
            [
             0.4444444444444444,
             "#bd3786"
            ],
            [
             0.5555555555555556,
             "#d8576b"
            ],
            [
             0.6666666666666666,
             "#ed7953"
            ],
            [
             0.7777777777777778,
             "#fb9f3a"
            ],
            [
             0.8888888888888888,
             "#fdca26"
            ],
            [
             1,
             "#f0f921"
            ]
           ],
           "sequentialminus": [
            [
             0,
             "#0d0887"
            ],
            [
             0.1111111111111111,
             "#46039f"
            ],
            [
             0.2222222222222222,
             "#7201a8"
            ],
            [
             0.3333333333333333,
             "#9c179e"
            ],
            [
             0.4444444444444444,
             "#bd3786"
            ],
            [
             0.5555555555555556,
             "#d8576b"
            ],
            [
             0.6666666666666666,
             "#ed7953"
            ],
            [
             0.7777777777777778,
             "#fb9f3a"
            ],
            [
             0.8888888888888888,
             "#fdca26"
            ],
            [
             1,
             "#f0f921"
            ]
           ]
          },
          "colorway": [
           "#636efa",
           "#EF553B",
           "#00cc96",
           "#ab63fa",
           "#FFA15A",
           "#19d3f3",
           "#FF6692",
           "#B6E880",
           "#FF97FF",
           "#FECB52"
          ],
          "font": {
           "color": "#2a3f5f"
          },
          "geo": {
           "bgcolor": "white",
           "lakecolor": "white",
           "landcolor": "white",
           "showlakes": true,
           "showland": true,
           "subunitcolor": "#C8D4E3"
          },
          "hoverlabel": {
           "align": "left"
          },
          "hovermode": "closest",
          "mapbox": {
           "style": "light"
          },
          "paper_bgcolor": "white",
          "plot_bgcolor": "white",
          "polar": {
           "angularaxis": {
            "gridcolor": "#EBF0F8",
            "linecolor": "#EBF0F8",
            "ticks": ""
           },
           "bgcolor": "white",
           "radialaxis": {
            "gridcolor": "#EBF0F8",
            "linecolor": "#EBF0F8",
            "ticks": ""
           }
          },
          "scene": {
           "xaxis": {
            "backgroundcolor": "white",
            "gridcolor": "#DFE8F3",
            "gridwidth": 2,
            "linecolor": "#EBF0F8",
            "showbackground": true,
            "ticks": "",
            "zerolinecolor": "#EBF0F8"
           },
           "yaxis": {
            "backgroundcolor": "white",
            "gridcolor": "#DFE8F3",
            "gridwidth": 2,
            "linecolor": "#EBF0F8",
            "showbackground": true,
            "ticks": "",
            "zerolinecolor": "#EBF0F8"
           },
           "zaxis": {
            "backgroundcolor": "white",
            "gridcolor": "#DFE8F3",
            "gridwidth": 2,
            "linecolor": "#EBF0F8",
            "showbackground": true,
            "ticks": "",
            "zerolinecolor": "#EBF0F8"
           }
          },
          "shapedefaults": {
           "line": {
            "color": "#2a3f5f"
           }
          },
          "ternary": {
           "aaxis": {
            "gridcolor": "#DFE8F3",
            "linecolor": "#A2B1C6",
            "ticks": ""
           },
           "baxis": {
            "gridcolor": "#DFE8F3",
            "linecolor": "#A2B1C6",
            "ticks": ""
           },
           "bgcolor": "white",
           "caxis": {
            "gridcolor": "#DFE8F3",
            "linecolor": "#A2B1C6",
            "ticks": ""
           }
          },
          "title": {
           "x": 0.05
          },
          "xaxis": {
           "automargin": true,
           "gridcolor": "#EBF0F8",
           "linecolor": "#EBF0F8",
           "ticks": "",
           "title": {
            "standoff": 15
           },
           "zerolinecolor": "#EBF0F8",
           "zerolinewidth": 2
          },
          "yaxis": {
           "automargin": true,
           "gridcolor": "#EBF0F8",
           "linecolor": "#EBF0F8",
           "ticks": "",
           "title": {
            "standoff": 15
           },
           "zerolinecolor": "#EBF0F8",
           "zerolinewidth": 2
          }
         }
        },
        "title": {
         "text": "Répartition des topics par seed (proportions)"
        },
        "xaxis": {
         "anchor": "y",
         "domain": [
          0,
          1
         ],
         "title": {
          "text": "Seed"
         }
        },
        "yaxis": {
         "anchor": "x",
         "domain": [
          0,
          1
         ],
         "tickformat": ".0%",
         "title": {
          "text": "Proportion"
         }
        }
       }
      }
     },
     "metadata": {},
     "output_type": "display_data"
    }
   ],
   "source": [
    "df_percent = df_pivot.div(df_pivot.sum(axis=1), axis=0)\n",
    "df_percent = df_percent.reset_index()\n",
    "\n",
    "df_melted = df_percent.melt(id_vars='Seed', var_name='Topic', value_name='Proportion')\n",
    "\n",
    "fig = px.bar(\n",
    "    df_melted,\n",
    "    x=\"Seed\",\n",
    "    y=\"Proportion\",\n",
    "    color=\"Topic\",\n",
    "    barmode=\"stack\",\n",
    "    title=\"Répartition des topics par seed (proportions)\",\n",
    "    color_discrete_sequence=px.colors.qualitative.Prism\n",
    ")\n",
    "\n",
    "fig.update_layout(\n",
    "    xaxis_title=\"Seed\",\n",
    "    yaxis_title=\"Proportion\",\n",
    "    legend_title=\"Topic\",\n",
    "    yaxis_tickformat=\".0%\",\n",
    "    template=\"plotly_white\"\n",
    ")\n",
    "\n",
    "fig.show()"
   ]
  },
  {
   "cell_type": "code",
   "execution_count": 113,
   "id": "7713ddbe",
   "metadata": {},
   "outputs": [
    {
     "data": {
      "text/html": [
       "<div>\n",
       "<style scoped>\n",
       "    .dataframe tbody tr th:only-of-type {\n",
       "        vertical-align: middle;\n",
       "    }\n",
       "\n",
       "    .dataframe tbody tr th {\n",
       "        vertical-align: top;\n",
       "    }\n",
       "\n",
       "    .dataframe thead th {\n",
       "        text-align: right;\n",
       "    }\n",
       "</style>\n",
       "<table border=\"1\" class=\"dataframe\">\n",
       "  <thead>\n",
       "    <tr style=\"text-align: right;\">\n",
       "      <th></th>\n",
       "      <th>Seed</th>\n",
       "      <th>Topic 0</th>\n",
       "      <th>Topic 1</th>\n",
       "      <th>Topic 2</th>\n",
       "      <th>Topic 3</th>\n",
       "      <th>Topic 4</th>\n",
       "      <th>Topic 5</th>\n",
       "      <th>Topic 6</th>\n",
       "      <th>Topic 7</th>\n",
       "      <th>Topic 8</th>\n",
       "      <th>Topic 9</th>\n",
       "    </tr>\n",
       "  </thead>\n",
       "  <tbody>\n",
       "    <tr>\n",
       "      <th>0</th>\n",
       "      <td>business</td>\n",
       "      <td>0.000000</td>\n",
       "      <td>0.666667</td>\n",
       "      <td>0.041667</td>\n",
       "      <td>0.000000</td>\n",
       "      <td>0.020833</td>\n",
       "      <td>0.000000</td>\n",
       "      <td>0.041667</td>\n",
       "      <td>0.187500</td>\n",
       "      <td>0.020833</td>\n",
       "      <td>0.020833</td>\n",
       "    </tr>\n",
       "    <tr>\n",
       "      <th>1</th>\n",
       "      <td>culture</td>\n",
       "      <td>0.421053</td>\n",
       "      <td>0.087719</td>\n",
       "      <td>0.000000</td>\n",
       "      <td>0.000000</td>\n",
       "      <td>0.070175</td>\n",
       "      <td>0.105263</td>\n",
       "      <td>0.000000</td>\n",
       "      <td>0.175439</td>\n",
       "      <td>0.052632</td>\n",
       "      <td>0.087719</td>\n",
       "    </tr>\n",
       "    <tr>\n",
       "      <th>2</th>\n",
       "      <td>history</td>\n",
       "      <td>0.224138</td>\n",
       "      <td>0.017241</td>\n",
       "      <td>0.034483</td>\n",
       "      <td>0.017241</td>\n",
       "      <td>0.293103</td>\n",
       "      <td>0.137931</td>\n",
       "      <td>0.051724</td>\n",
       "      <td>0.120690</td>\n",
       "      <td>0.068966</td>\n",
       "      <td>0.034483</td>\n",
       "    </tr>\n",
       "    <tr>\n",
       "      <th>3</th>\n",
       "      <td>internet</td>\n",
       "      <td>0.000000</td>\n",
       "      <td>0.180000</td>\n",
       "      <td>0.000000</td>\n",
       "      <td>0.000000</td>\n",
       "      <td>0.020000</td>\n",
       "      <td>0.000000</td>\n",
       "      <td>0.000000</td>\n",
       "      <td>0.120000</td>\n",
       "      <td>0.000000</td>\n",
       "      <td>0.680000</td>\n",
       "    </tr>\n",
       "    <tr>\n",
       "      <th>4</th>\n",
       "      <td>language</td>\n",
       "      <td>0.070175</td>\n",
       "      <td>0.000000</td>\n",
       "      <td>0.000000</td>\n",
       "      <td>0.754386</td>\n",
       "      <td>0.017544</td>\n",
       "      <td>0.000000</td>\n",
       "      <td>0.000000</td>\n",
       "      <td>0.017544</td>\n",
       "      <td>0.035088</td>\n",
       "      <td>0.105263</td>\n",
       "    </tr>\n",
       "    <tr>\n",
       "      <th>5</th>\n",
       "      <td>nature</td>\n",
       "      <td>0.000000</td>\n",
       "      <td>0.060000</td>\n",
       "      <td>0.000000</td>\n",
       "      <td>0.000000</td>\n",
       "      <td>0.040000</td>\n",
       "      <td>0.600000</td>\n",
       "      <td>0.000000</td>\n",
       "      <td>0.220000</td>\n",
       "      <td>0.080000</td>\n",
       "      <td>0.000000</td>\n",
       "    </tr>\n",
       "    <tr>\n",
       "      <th>6</th>\n",
       "      <td>politics</td>\n",
       "      <td>0.000000</td>\n",
       "      <td>0.000000</td>\n",
       "      <td>0.729167</td>\n",
       "      <td>0.000000</td>\n",
       "      <td>0.083333</td>\n",
       "      <td>0.000000</td>\n",
       "      <td>0.020833</td>\n",
       "      <td>0.062500</td>\n",
       "      <td>0.062500</td>\n",
       "      <td>0.041667</td>\n",
       "    </tr>\n",
       "    <tr>\n",
       "      <th>7</th>\n",
       "      <td>sports</td>\n",
       "      <td>0.000000</td>\n",
       "      <td>0.138889</td>\n",
       "      <td>0.000000</td>\n",
       "      <td>0.000000</td>\n",
       "      <td>0.000000</td>\n",
       "      <td>0.027778</td>\n",
       "      <td>0.722222</td>\n",
       "      <td>0.111111</td>\n",
       "      <td>0.000000</td>\n",
       "      <td>0.000000</td>\n",
       "    </tr>\n",
       "  </tbody>\n",
       "</table>\n",
       "</div>"
      ],
      "text/plain": [
       "       Seed   Topic 0   Topic 1   Topic 2   Topic 3   Topic 4   Topic 5  \\\n",
       "0  business  0.000000  0.666667  0.041667  0.000000  0.020833  0.000000   \n",
       "1   culture  0.421053  0.087719  0.000000  0.000000  0.070175  0.105263   \n",
       "2   history  0.224138  0.017241  0.034483  0.017241  0.293103  0.137931   \n",
       "3  internet  0.000000  0.180000  0.000000  0.000000  0.020000  0.000000   \n",
       "4  language  0.070175  0.000000  0.000000  0.754386  0.017544  0.000000   \n",
       "5    nature  0.000000  0.060000  0.000000  0.000000  0.040000  0.600000   \n",
       "6  politics  0.000000  0.000000  0.729167  0.000000  0.083333  0.000000   \n",
       "7    sports  0.000000  0.138889  0.000000  0.000000  0.000000  0.027778   \n",
       "\n",
       "    Topic 6   Topic 7   Topic 8   Topic 9  \n",
       "0  0.041667  0.187500  0.020833  0.020833  \n",
       "1  0.000000  0.175439  0.052632  0.087719  \n",
       "2  0.051724  0.120690  0.068966  0.034483  \n",
       "3  0.000000  0.120000  0.000000  0.680000  \n",
       "4  0.000000  0.017544  0.035088  0.105263  \n",
       "5  0.000000  0.220000  0.080000  0.000000  \n",
       "6  0.020833  0.062500  0.062500  0.041667  \n",
       "7  0.722222  0.111111  0.000000  0.000000  "
      ]
     },
     "execution_count": 113,
     "metadata": {},
     "output_type": "execute_result"
    }
   ],
   "source": [
    "df_percent"
   ]
  }
 ],
 "metadata": {
  "kernelspec": {
   "display_name": "venv",
   "language": "python",
   "name": "python3"
  },
  "language_info": {
   "codemirror_mode": {
    "name": "ipython",
    "version": 3
   },
   "file_extension": ".py",
   "mimetype": "text/x-python",
   "name": "python",
   "nbconvert_exporter": "python",
   "pygments_lexer": "ipython3",
   "version": "3.9.6"
  }
 },
 "nbformat": 4,
 "nbformat_minor": 5
}
