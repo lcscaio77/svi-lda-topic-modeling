{
 "cells": [
  {
   "cell_type": "code",
   "execution_count": 1,
   "id": "4d1cb23f",
   "metadata": {},
   "outputs": [],
   "source": [
    "import json\n",
    "\n",
    "import numpy as np\n",
    "\n",
    "from src import create_wikipedia_corpus, vectorize_corpus"
   ]
  },
  {
   "cell_type": "code",
   "execution_count": 2,
   "id": "c7b483d0",
   "metadata": {},
   "outputs": [],
   "source": [
    "with open(\"data/wikipedia_corpus.json\", \"r\", encoding=\"utf-8\") as f:\n",
    "    documents = json.load(f)\n",
    "\n",
    "corpus, _ = vectorize_corpus(documents) # Vectorized documents\n",
    "D = len(corpus) # Number of documents"
   ]
  },
  {
   "cell_type": "code",
   "execution_count": null,
   "id": "480d94df",
   "metadata": {},
   "outputs": [],
   "source": [
    "def SVI_for_LDA(n_iterations=100):\n",
    "    for i in range(n_iterations):\n",
    "        pass"
   ]
  }
 ],
 "metadata": {
  "kernelspec": {
   "display_name": "venv",
   "language": "python",
   "name": "python3"
  },
  "language_info": {
   "codemirror_mode": {
    "name": "ipython",
    "version": 3
   },
   "file_extension": ".py",
   "mimetype": "text/x-python",
   "name": "python",
   "nbconvert_exporter": "python",
   "pygments_lexer": "ipython3",
   "version": "3.9.6"
  }
 },
 "nbformat": 4,
 "nbformat_minor": 5
}
